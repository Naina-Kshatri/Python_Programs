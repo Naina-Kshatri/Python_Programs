{
  "nbformat": 4,
  "nbformat_minor": 0,
  "metadata": {
    "colab": {
      "name": "26/03.ipynb",
      "provenance": [],
      "authorship_tag": "ABX9TyPzk23n+Cvlr6okYcURjyoT",
      "include_colab_link": true
    },
    "kernelspec": {
      "name": "python3",
      "display_name": "Python 3"
    },
    "language_info": {
      "name": "python"
    }
  },
  "cells": [
    {
      "cell_type": "markdown",
      "metadata": {
        "id": "view-in-github",
        "colab_type": "text"
      },
      "source": [
        "<a href=\"https://colab.research.google.com/github/Naina-Kshatri/Python_Programs/blob/main/26_03.ipynb\" target=\"_parent\"><img src=\"https://colab.research.google.com/assets/colab-badge.svg\" alt=\"Open In Colab\"/></a>"
      ]
    },
    {
      "cell_type": "markdown",
      "metadata": {
        "id": "Yre_EecREiim"
      },
      "source": [
        "NEON NUMBER (SUM OF DIGITS OF SQUARE OF NUMBER IS EQUAL TO NUMBER ITSELF)"
      ]
    },
    {
      "cell_type": "code",
      "metadata": {
        "id": "N9zLJ4-iEbHM",
        "colab": {
          "base_uri": "https://localhost:8080/"
        },
        "outputId": "422ca2ba-91c6-4da3-8286-b770ca890101"
      },
      "source": [
        "num=int(input(\"enter anumber:\"))\n",
        "sq=num*num\n",
        "sum=0\n",
        "while(sq>0):\n",
        "      sum=sum+sq%10\n",
        "      sq=sq//10\n",
        "if(num==sum):\n",
        "  print(num,\"is a neon number\")\n",
        "else:\n",
        "     print(num,\"is not a neon number\")       "
      ],
      "execution_count": 26,
      "outputs": [
        {
          "output_type": "stream",
          "text": [
            "enter anumber:9\n",
            "9 is a neon number\n"
          ],
          "name": "stdout"
        }
      ]
    },
    {
      "cell_type": "markdown",
      "metadata": {
        "id": "w6n5kMe7FazO"
      },
      "source": [
        "AUTOMORPHIC NUMBER (SQUARE ENDS IS THE SAME DIGITS AS THE NUMBER ITSELF)"
      ]
    },
    {
      "cell_type": "code",
      "metadata": {
        "id": "K8JgZZwVFJTX",
        "colab": {
          "base_uri": "https://localhost:8080/"
        },
        "outputId": "55a54c89-5da1-4ec3-8078-082eb27502a4"
      },
      "source": [
        "n=int(input(\"enter a number:\"))\n",
        "num=n\n",
        "sq=n*n\n",
        "t=10\n",
        "equal=False\n",
        "print(\"square of\",n,\"is\",sq)\n",
        "while(n>0):\n",
        "      r=sq%t\n",
        "      if(num==r):\n",
        "        equal=True\n",
        "        break\n",
        "      n=n//10\n",
        "      t=t*10\n",
        "if(equal):\n",
        "   print(num,\"is automorphic number\")\n",
        "else:\n",
        "     print(num,\"is not automorphic number\")           "
      ],
      "execution_count": 27,
      "outputs": [
        {
          "output_type": "stream",
          "text": [
            "enter a number:6\n",
            "square of 6 is 36\n",
            "6 is automorphic number\n"
          ],
          "name": "stdout"
        }
      ]
    },
    {
      "cell_type": "markdown",
      "metadata": {
        "id": "Fum2agLvH6Dj"
      },
      "source": [
        "EVIL-ODIOUS NUMBER\n",
        "\n",
        "EVIL- non negative number that has even number of 1's in it's binary expression.\n",
        "\n",
        "ODIOUS- represents odd number of 1's"
      ]
    },
    {
      "cell_type": "code",
      "metadata": {
        "id": "Zl4NtjUxH0bP",
        "colab": {
          "base_uri": "https://localhost:8080/"
        },
        "outputId": "9187256e-cb1a-4053-bb3e-ad78ee474a4d"
      },
      "source": [
        "n=int(input(\"enter a number:\"))\n",
        "count=0\n",
        "while n!=0:\n",
        "      if(n%2==1):\n",
        "        count+=1\n",
        "      n=n//2\n",
        "if(count%2==0):\n",
        "   print(\"evil number\")\n",
        "else:\n",
        "     print(\"odious number\")           "
      ],
      "execution_count": 28,
      "outputs": [
        {
          "output_type": "stream",
          "text": [
            "enter a number:5\n",
            "evil number\n"
          ],
          "name": "stdout"
        }
      ]
    },
    {
      "cell_type": "markdown",
      "metadata": {
        "id": "Cudl91nAJY-d"
      },
      "source": [
        "PRINT ALL EVIL NUMBERS BETWEEN 1 to n"
      ]
    },
    {
      "cell_type": "code",
      "metadata": {
        "id": "VocMASXRJVrP",
        "colab": {
          "base_uri": "https://localhost:8080/"
        },
        "outputId": "58859535-5a2c-4bd5-a2f0-e5c14a4e6108"
      },
      "source": [
        "limit=int(input(\"enter a limit:\"))\n",
        "print(\"evil number between 1 to\",limit)\n",
        "for i in range(1,limit+1):\n",
        "    num=i\n",
        "    count=0\n",
        "    while num!=0:\n",
        "          if(num%2==1):\n",
        "             count+=1\n",
        "          num=num//2\n",
        "    if(count%2==0):\n",
        "       print(i)             "
      ],
      "execution_count": 29,
      "outputs": [
        {
          "output_type": "stream",
          "text": [
            "enter a limit:5\n",
            "evil number between 1 to 5\n",
            "3\n",
            "5\n"
          ],
          "name": "stdout"
        }
      ]
    },
    {
      "cell_type": "markdown",
      "metadata": {
        "id": "ahyGqos7YmPr"
      },
      "source": [
        "FLOYD TRIANGLE"
      ]
    },
    {
      "cell_type": "code",
      "metadata": {
        "id": "aCY3UkvFKQTX",
        "colab": {
          "base_uri": "https://localhost:8080/"
        },
        "outputId": "a646c359-4d2d-416d-f449-982ff128fbfb"
      },
      "source": [
        "n=int(input(\"enter np. of rows:\"))\n",
        "a=1\n",
        "for i in range(1,n+1):\n",
        "    for j in range(1,n+1):\n",
        "        print(a,\"\",end=\"\")\n",
        "        a+=1\n",
        "    print()    \n"
      ],
      "execution_count": 30,
      "outputs": [
        {
          "output_type": "stream",
          "text": [
            "enter np. of rows:5\n",
            "1 2 3 4 5 \n",
            "6 7 8 9 10 \n",
            "11 12 13 14 15 \n",
            "16 17 18 19 20 \n",
            "21 22 23 24 25 \n"
          ],
          "name": "stdout"
        }
      ]
    },
    {
      "cell_type": "markdown",
      "metadata": {
        "id": "HFpP2SSvZjKT"
      },
      "source": [
        "REVERSE NUMBER"
      ]
    },
    {
      "cell_type": "code",
      "metadata": {
        "id": "Vdp3yrHfZFdI",
        "colab": {
          "base_uri": "https://localhost:8080/"
        },
        "outputId": "9132458a-f0ec-4acd-c659-913a0657ffdd"
      },
      "source": [
        "n=int(input(\"enter a number:\"))\n",
        "rev=0\n",
        "while(n!=0):\n",
        "      rev=rev*10\n",
        "      rev=rev+n%10\n",
        "      n=n//10\n",
        "print(\"reverse of number is:\",rev)      "
      ],
      "execution_count": 31,
      "outputs": [
        {
          "output_type": "stream",
          "text": [
            "enter a number:142\n",
            "reverse of number is: 241\n"
          ],
          "name": "stdout"
        }
      ]
    },
    {
      "cell_type": "markdown",
      "metadata": {
        "id": "JckyHG_0Z8-5"
      },
      "source": [
        "SUM OF DIGIT"
      ]
    },
    {
      "cell_type": "code",
      "metadata": {
        "id": "C5j4HNoHZ48e",
        "colab": {
          "base_uri": "https://localhost:8080/"
        },
        "outputId": "99b3767e-7a74-4f57-e41c-f0c4ed9bcd63"
      },
      "source": [
        "n=int(input(\"enter a number:\"))\n",
        "sum=0\n",
        "while n!=0:\n",
        "      d=n%10\n",
        "      sum=sum+d\n",
        "      n=n//10\n",
        "print(\"Sum of digits is:\",sum)      "
      ],
      "execution_count": 32,
      "outputs": [
        {
          "output_type": "stream",
          "text": [
            "enter a number:123\n",
            "Sum of digits is: 6\n"
          ],
          "name": "stdout"
        }
      ]
    },
    {
      "cell_type": "markdown",
      "metadata": {
        "id": "bfHyNkChaU6G"
      },
      "source": [
        "POWER OF GIVEN NUMBER"
      ]
    },
    {
      "cell_type": "code",
      "metadata": {
        "id": "WNGt5E0_aSNS",
        "colab": {
          "base_uri": "https://localhost:8080/"
        },
        "outputId": "f515208c-10fe-438c-a2c0-e4c24668bca6"
      },
      "source": [
        "n=int(input(\"enter a number:\"))\n",
        "pow=int(input(\"enter power:\"))\n",
        "sum=1\n",
        "i=1\n",
        "while(i<=pow):\n",
        "      sum=sum*n\n",
        "      i+=1\n",
        "print(n,\"t0 the power\",pow,\"is\",sum)      \n"
      ],
      "execution_count": 33,
      "outputs": [
        {
          "output_type": "stream",
          "text": [
            "enter a number:8\n",
            "enter power:3\n",
            "8 t0 the power 3 is 512\n"
          ],
          "name": "stdout"
        }
      ]
    },
    {
      "cell_type": "markdown",
      "metadata": {
        "id": "CVHtpTsnbDl3"
      },
      "source": [
        "COUNT THE DIGIT IN A NUMBER"
      ]
    },
    {
      "cell_type": "code",
      "metadata": {
        "id": "_I2TJqXCazsQ",
        "colab": {
          "base_uri": "https://localhost:8080/"
        },
        "outputId": "1e24ea39-0993-4d81-b16d-f4ddd0bac40d"
      },
      "source": [
        "n=int(input(\"enter a number:\"))\n",
        "count=0\n",
        "while(n>0):\n",
        "      n=n//10\n",
        "      count+=1\n",
        "print(\"total numbers of digit in number is:\",count)      \n"
      ],
      "execution_count": 34,
      "outputs": [
        {
          "output_type": "stream",
          "text": [
            "enter a number:4568\n",
            "total numbers of digit in number is: 4\n"
          ],
          "name": "stdout"
        }
      ]
    },
    {
      "cell_type": "markdown",
      "metadata": {
        "id": "C4_Bk5uHboUt"
      },
      "source": [
        "RANDOM NUMBER GENERATOR"
      ]
    },
    {
      "cell_type": "code",
      "metadata": {
        "id": "C4_dApzBbghJ",
        "colab": {
          "base_uri": "https://localhost:8080/"
        },
        "outputId": "d8f3533d-6f12-428e-b5f4-e4f2b144c126"
      },
      "source": [
        "import random\n",
        "num=int(input(\"enter number of random number you want:\"))\n",
        "max=int(input(\"enter the maximum value of random number:\"))\n",
        "print(num,\"random value between 0 to\",max)\n",
        "for i in range(max):\n",
        "    print(random.randint(0,max))"
      ],
      "execution_count": 35,
      "outputs": [
        {
          "output_type": "stream",
          "text": [
            "enter number of random number you want:5\n",
            "enter the maximum value of random number:100\n",
            "5 random value between 0 to 100\n",
            "35\n",
            "79\n",
            "52\n",
            "9\n",
            "71\n",
            "71\n",
            "82\n",
            "33\n",
            "11\n",
            "34\n",
            "85\n",
            "58\n",
            "23\n",
            "51\n",
            "62\n",
            "12\n",
            "23\n",
            "70\n",
            "10\n",
            "62\n",
            "56\n",
            "61\n",
            "34\n",
            "74\n",
            "49\n",
            "50\n",
            "14\n",
            "58\n",
            "56\n",
            "47\n",
            "13\n",
            "30\n",
            "66\n",
            "0\n",
            "13\n",
            "34\n",
            "97\n",
            "78\n",
            "39\n",
            "8\n",
            "88\n",
            "35\n",
            "82\n",
            "71\n",
            "59\n",
            "87\n",
            "23\n",
            "77\n",
            "43\n",
            "98\n",
            "76\n",
            "23\n",
            "0\n",
            "50\n",
            "76\n",
            "31\n",
            "93\n",
            "83\n",
            "24\n",
            "32\n",
            "63\n",
            "53\n",
            "83\n",
            "84\n",
            "43\n",
            "49\n",
            "2\n",
            "87\n",
            "16\n",
            "19\n",
            "50\n",
            "9\n",
            "61\n",
            "57\n",
            "72\n",
            "92\n",
            "58\n",
            "35\n",
            "20\n",
            "32\n",
            "62\n",
            "73\n",
            "58\n",
            "55\n",
            "97\n",
            "12\n",
            "48\n",
            "4\n",
            "87\n",
            "16\n",
            "10\n",
            "92\n",
            "69\n",
            "89\n",
            "62\n",
            "23\n",
            "14\n",
            "47\n",
            "67\n",
            "100\n"
          ],
          "name": "stdout"
        }
      ]
    },
    {
      "cell_type": "markdown",
      "metadata": {
        "id": "8ymYfXbBcTNr"
      },
      "source": [
        "CELCIUS TO FAHRENHEIT"
      ]
    },
    {
      "cell_type": "code",
      "metadata": {
        "id": "zXh0Q__ScJKm",
        "colab": {
          "base_uri": "https://localhost:8080/"
        },
        "outputId": "fb751004-548d-4682-be64-12ab68da8d4f"
      },
      "source": [
        "c=float(input(\"enter temp in celcius:\"))\n",
        "f=(1.8*c)+32\n",
        "print(\"temperature in fahrenheit={0:.2f}\".format(f))"
      ],
      "execution_count": 36,
      "outputs": [
        {
          "output_type": "stream",
          "text": [
            "enter temp in celcius:25\n",
            "temperature in fahrenheit=77.00\n"
          ],
          "name": "stdout"
        }
      ]
    },
    {
      "cell_type": "markdown",
      "metadata": {
        "id": "Y4ckJKBwc4g0"
      },
      "source": [
        "FAHRENHEIT TO CELCIUS"
      ]
    },
    {
      "cell_type": "code",
      "metadata": {
        "id": "773pIoSLcyzm",
        "colab": {
          "base_uri": "https://localhost:8080/"
        },
        "outputId": "422f16d0-48d3-4758-b45b-ad2ba43b1dac"
      },
      "source": [
        "f=float(input(\"enter temp in fahrenheit:\"))\n",
        "c=((f-32)*5/9)\n",
        "print(\"Temperature in celcius={0:.2f}\".format(c))"
      ],
      "execution_count": 37,
      "outputs": [
        {
          "output_type": "stream",
          "text": [
            "enter temp in fahrenheit:98\n",
            "Temperature in celcius=36.67\n"
          ],
          "name": "stdout"
        }
      ]
    },
    {
      "cell_type": "markdown",
      "metadata": {
        "id": "55BvshigdVLL"
      },
      "source": [
        "ANAGRAM"
      ]
    },
    {
      "cell_type": "code",
      "metadata": {
        "id": "w9oknhi2dSom",
        "colab": {
          "base_uri": "https://localhost:8080/"
        },
        "outputId": "4f20eae7-a7c8-4e11-eb70-c3c7c3927626"
      },
      "source": [
        "s1=input(\"enter first string:\")\n",
        "s2=input(\"enter second string:\")\n",
        "if(sorted(s1)==sorted(s2)):\n",
        "   print(\"The strings are anagram\")\n",
        "else:\n",
        "     print(\"The strings aren't anagram\")   "
      ],
      "execution_count": 38,
      "outputs": [
        {
          "output_type": "stream",
          "text": [
            "enter first string:cola\n",
            "enter second string:coal\n",
            "The strings are anagram\n"
          ],
          "name": "stdout"
        }
      ]
    },
    {
      "cell_type": "markdown",
      "metadata": {
        "id": "8z03Wu-0dz2F"
      },
      "source": [
        "SUPER DIGIT"
      ]
    },
    {
      "cell_type": "code",
      "metadata": {
        "colab": {
          "base_uri": "https://localhost:8080/"
        },
        "id": "ep-r9X70dwTr",
        "outputId": "9bacb272-e851-4883-9d99-e95e124b5f24"
      },
      "source": [
        "n=int(input(\"enter a number:\"))\n",
        "sum=0\n",
        "while(n>0):\n",
        "      sum=sum+(n%10)\n",
        "      n=n//10\n",
        "n=sum\n",
        "print(\"super digit of number is:\",n)            "
      ],
      "execution_count": 45,
      "outputs": [
        {
          "output_type": "stream",
          "text": [
            "enter a number:5\n",
            "super digit of number is: 5\n"
          ],
          "name": "stdout"
        }
      ]
    },
    {
      "cell_type": "markdown",
      "metadata": {
        "id": "-Gg8MMKqfW98"
      },
      "source": [
        "LCM"
      ]
    },
    {
      "cell_type": "code",
      "metadata": {
        "id": "zBd9M4jVeMK7",
        "colab": {
          "base_uri": "https://localhost:8080/"
        },
        "outputId": "d805a227-14e4-4bb4-f140-e8020aae53ed"
      },
      "source": [
        "a=int(input(\"enter first number:\"))\n",
        "b=int(input(\"enter second number:\"))\n",
        "if(a>b):\n",
        "   min=a\n",
        "else:\n",
        "     min=b\n",
        "while(1):\n",
        "      if(min%a==0 and min%b==0):\n",
        "         print(\"LCM is\",min)\n",
        "         break\n",
        "      min=min+1\n",
        "                 "
      ],
      "execution_count": 40,
      "outputs": [
        {
          "output_type": "stream",
          "text": [
            "enter first number:3\n",
            "enter second number:4\n",
            "LCM is 12\n"
          ],
          "name": "stdout"
        }
      ]
    },
    {
      "cell_type": "code",
      "metadata": {
        "id": "LMPgOfVNf8dx"
      },
      "source": [
        ""
      ],
      "execution_count": null,
      "outputs": []
    }
  ]
}
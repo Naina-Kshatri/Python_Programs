{
  "nbformat": 4,
  "nbformat_minor": 0,
  "metadata": {
    "colab": {
      "name": "ARRAY.ipynb",
      "provenance": [],
      "authorship_tag": "ABX9TyMN0qzCLKnVPoKhHTQ9pDNJ",
      "include_colab_link": true
    },
    "kernelspec": {
      "name": "python3",
      "display_name": "Python 3"
    },
    "language_info": {
      "name": "python"
    }
  },
  "cells": [
    {
      "cell_type": "markdown",
      "metadata": {
        "id": "view-in-github",
        "colab_type": "text"
      },
      "source": [
        "<a href=\"https://colab.research.google.com/github/Naina-Kshatri/Python_Programs/blob/main/ARRAY.ipynb\" target=\"_parent\"><img src=\"https://colab.research.google.com/assets/colab-badge.svg\" alt=\"Open In Colab\"/></a>"
      ]
    },
    {
      "cell_type": "markdown",
      "metadata": {
        "id": "BuIlXTdeHqbP"
      },
      "source": [
        "ARRAY"
      ]
    },
    {
      "cell_type": "code",
      "metadata": {
        "colab": {
          "base_uri": "https://localhost:8080/"
        },
        "id": "wOCTOjrxHoVZ",
        "outputId": "47773b69-b2a7-4f61-e3f2-4c969f1e0132"
      },
      "source": [
        "from array import *\n",
        "vals=array('i',[5,9,8,4,2])\n",
        "print(vals)"
      ],
      "execution_count": 1,
      "outputs": [
        {
          "output_type": "stream",
          "text": [
            "array('i', [5, 9, 8, 4, 2])\n"
          ],
          "name": "stdout"
        }
      ]
    },
    {
      "cell_type": "code",
      "metadata": {
        "colab": {
          "base_uri": "https://localhost:8080/"
        },
        "id": "pA35uaQuH5DL",
        "outputId": "a71d023b-4a1c-4dfa-dc93-b4b0f3692b1c"
      },
      "source": [
        "print(vals.buffer_info())"
      ],
      "execution_count": 3,
      "outputs": [
        {
          "output_type": "stream",
          "text": [
            "(140684236589776, 5)\n"
          ],
          "name": "stdout"
        }
      ]
    },
    {
      "cell_type": "code",
      "metadata": {
        "colab": {
          "base_uri": "https://localhost:8080/"
        },
        "id": "Nm3tdHkEH_DU",
        "outputId": "922e6712-874b-4a9d-b4f9-26a51c18a441"
      },
      "source": [
        "print(vals.typecode)"
      ],
      "execution_count": 4,
      "outputs": [
        {
          "output_type": "stream",
          "text": [
            "i\n"
          ],
          "name": "stdout"
        }
      ]
    },
    {
      "cell_type": "code",
      "metadata": {
        "colab": {
          "base_uri": "https://localhost:8080/"
        },
        "id": "v8ouXT0_IHlK",
        "outputId": "0e9ef2c2-017b-4b3f-a42d-042e79cc1cb7"
      },
      "source": [
        "print(vals.append(5))"
      ],
      "execution_count": 6,
      "outputs": [
        {
          "output_type": "stream",
          "text": [
            "None\n"
          ],
          "name": "stdout"
        }
      ]
    },
    {
      "cell_type": "code",
      "metadata": {
        "colab": {
          "base_uri": "https://localhost:8080/"
        },
        "id": "mTuHXqsHIL2j",
        "outputId": "159baa70-7123-4e21-d465-ea98158e8660"
      },
      "source": [
        "print(vals.remove(9))"
      ],
      "execution_count": 8,
      "outputs": [
        {
          "output_type": "stream",
          "text": [
            "None\n"
          ],
          "name": "stdout"
        }
      ]
    },
    {
      "cell_type": "code",
      "metadata": {
        "colab": {
          "base_uri": "https://localhost:8080/"
        },
        "id": "OTlJ-FkiIWKy",
        "outputId": "4375b840-8d43-4637-cff1-c280fd852e6e"
      },
      "source": [
        "print(vals.reverse())"
      ],
      "execution_count": 9,
      "outputs": [
        {
          "output_type": "stream",
          "text": [
            "None\n"
          ],
          "name": "stdout"
        }
      ]
    },
    {
      "cell_type": "code",
      "metadata": {
        "colab": {
          "base_uri": "https://localhost:8080/"
        },
        "id": "DlRQ89VrIcca",
        "outputId": "1f3eb68f-3fd2-405f-85b5-3aea83e373b5"
      },
      "source": [
        "vals.reverse()\n",
        "print(vals)"
      ],
      "execution_count": 10,
      "outputs": [
        {
          "output_type": "stream",
          "text": [
            "array('i', [5, 8, 4, 2, 5])\n"
          ],
          "name": "stdout"
        }
      ]
    },
    {
      "cell_type": "code",
      "metadata": {
        "colab": {
          "base_uri": "https://localhost:8080/"
        },
        "id": "9QjQ9QmwIhth",
        "outputId": "ad47a7e9-dd68-492f-8044-6ba8c37ce31d"
      },
      "source": [
        "print(vals[0])"
      ],
      "execution_count": 11,
      "outputs": [
        {
          "output_type": "stream",
          "text": [
            "5\n"
          ],
          "name": "stdout"
        }
      ]
    },
    {
      "cell_type": "code",
      "metadata": {
        "colab": {
          "base_uri": "https://localhost:8080/"
        },
        "id": "iYi_26AOIp0l",
        "outputId": "8961f545-1178-4eeb-9f68-051819741069"
      },
      "source": [
        "from array import *\n",
        "vals=array('i',[5,9,-8,4,2])\n",
        "for i in range(5):\n",
        "  print(vals[i])"
      ],
      "execution_count": 12,
      "outputs": [
        {
          "output_type": "stream",
          "text": [
            "5\n",
            "9\n",
            "-8\n",
            "4\n",
            "2\n"
          ],
          "name": "stdout"
        }
      ]
    },
    {
      "cell_type": "code",
      "metadata": {
        "colab": {
          "base_uri": "https://localhost:8080/"
        },
        "id": "VaDYz0ZnI-BB",
        "outputId": "49b7bbbd-307f-4a0c-8aae-6ab65082a88c"
      },
      "source": [
        "from array import *\n",
        "vals=array('i',[5,9,-8,4,2])\n",
        "for i in range(len(vals)):\n",
        "  print(vals[i])"
      ],
      "execution_count": 13,
      "outputs": [
        {
          "output_type": "stream",
          "text": [
            "5\n",
            "9\n",
            "-8\n",
            "4\n",
            "2\n"
          ],
          "name": "stdout"
        }
      ]
    },
    {
      "cell_type": "code",
      "metadata": {
        "colab": {
          "base_uri": "https://localhost:8080/"
        },
        "id": "Uzvb3PLDJICj",
        "outputId": "2b0f818e-370b-49d8-97ea-89884573a8b4"
      },
      "source": [
        "from array import *\n",
        "vals=array('i',[5,9,-8,4,2])\n",
        "for e in vals:\n",
        "  print(e)"
      ],
      "execution_count": 14,
      "outputs": [
        {
          "output_type": "stream",
          "text": [
            "5\n",
            "9\n",
            "-8\n",
            "4\n",
            "2\n"
          ],
          "name": "stdout"
        }
      ]
    },
    {
      "cell_type": "code",
      "metadata": {
        "colab": {
          "base_uri": "https://localhost:8080/"
        },
        "id": "cTo5CvL-JVYh",
        "outputId": "76a5c9ab-8694-4cee-9048-94390f87eea7"
      },
      "source": [
        "from array import *\n",
        "vals=array('u',['a','e','i'])\n",
        "for e in vals:\n",
        "  print(e)"
      ],
      "execution_count": 15,
      "outputs": [
        {
          "output_type": "stream",
          "text": [
            "a\n",
            "e\n",
            "i\n"
          ],
          "name": "stdout"
        }
      ]
    },
    {
      "cell_type": "code",
      "metadata": {
        "colab": {
          "base_uri": "https://localhost:8080/"
        },
        "id": "a632A-rYJhvi",
        "outputId": "fa277a77-b696-43a9-fbac-1cda582eac5b"
      },
      "source": [
        "from array import *\n",
        "vals=array('i',[5,9,8,4,2])\n",
        "newArr=array(vals.typecode,(a for a in vals))\n",
        "for e in newArr:\n",
        "  print(e)"
      ],
      "execution_count": 16,
      "outputs": [
        {
          "output_type": "stream",
          "text": [
            "5\n",
            "9\n",
            "8\n",
            "4\n",
            "2\n"
          ],
          "name": "stdout"
        }
      ]
    },
    {
      "cell_type": "code",
      "metadata": {
        "colab": {
          "base_uri": "https://localhost:8080/"
        },
        "id": "7bcA5OoPJ-34",
        "outputId": "b822f5bf-4d51-4c3a-ab9a-25f7aa9cbb03"
      },
      "source": [
        "from array import *\n",
        "vals=array('i',[5,9,8,4,2])\n",
        "newArr=array(vals.typecode,(a*a for a in vals))\n",
        "for e in newArr:\n",
        "  print(e)"
      ],
      "execution_count": 17,
      "outputs": [
        {
          "output_type": "stream",
          "text": [
            "25\n",
            "81\n",
            "64\n",
            "16\n",
            "4\n"
          ],
          "name": "stdout"
        }
      ]
    },
    {
      "cell_type": "code",
      "metadata": {
        "colab": {
          "base_uri": "https://localhost:8080/"
        },
        "id": "ObsrPY_4LIqd",
        "outputId": "c92b042b-4ed5-472f-8e1f-a85ba98a3b86"
      },
      "source": [
        "from array import *\n",
        "vals=array('i',[5,9,8,4,2])\n",
        "newArr=array(vals.typecode,(a for a in vals))\n",
        "i=0\n",
        "while i<len(newArr):\n",
        "  print(newArr[i])\n",
        "  i+=1"
      ],
      "execution_count": 18,
      "outputs": [
        {
          "output_type": "stream",
          "text": [
            "5\n",
            "9\n",
            "8\n",
            "4\n",
            "2\n"
          ],
          "name": "stdout"
        }
      ]
    },
    {
      "cell_type": "code",
      "metadata": {
        "colab": {
          "base_uri": "https://localhost:8080/"
        },
        "id": "gCFa-KLyLmf8",
        "outputId": "cf11ea2b-9305-4bd9-b609-bb083d1257a2"
      },
      "source": [
        "#user input array\n",
        "from array import *\n",
        "arr=array('i',[])\n",
        "n=int(input(\"enter length of array\"))\n",
        "for i in range(n):\n",
        "    x=int(input(\"enter value\"))\n",
        "    arr.append(x)\n",
        "print(arr)    \n"
      ],
      "execution_count": 20,
      "outputs": [
        {
          "output_type": "stream",
          "text": [
            "enter length of array4\n",
            "enter value5\n",
            "enter value2\n",
            "enter value1\n",
            "enter value6\n",
            "array('i', [5, 2, 1, 6])\n"
          ],
          "name": "stdout"
        }
      ]
    },
    {
      "cell_type": "code",
      "metadata": {
        "colab": {
          "base_uri": "https://localhost:8080/"
        },
        "id": "Ejk6rbNWN-nJ",
        "outputId": "832e30e5-2808-4eaa-cbb4-bd1d1bf2ca7e"
      },
      "source": [
        "from array import *\n",
        "arr=array('i',[])\n",
        "n=int(input(\"enter length of array\"))\n",
        "for i in range(n):\n",
        "    x=int(input(\"enter value\"))\n",
        "    arr.append(x)\n",
        "print(arr)\n",
        "val=int(input(\"enter value for search\"))\n",
        "k=0\n",
        "for e in arr:\n",
        "  if e==val:\n",
        "    print(k)\n",
        "    break\n",
        "  k+=1\n",
        "print(arr.index(val))    "
      ],
      "execution_count": 21,
      "outputs": [
        {
          "output_type": "stream",
          "text": [
            "enter length of array4\n",
            "enter value5\n",
            "enter value1\n",
            "enter value2\n",
            "enter value3\n",
            "array('i', [5, 1, 2, 3])\n",
            "enter value for search2\n",
            "2\n",
            "2\n"
          ],
          "name": "stdout"
        }
      ]
    },
    {
      "cell_type": "markdown",
      "metadata": {
        "id": "mqeMRN5gOlzN"
      },
      "source": [
        "MULTIDIMENSIONAL ARRAY"
      ]
    },
    {
      "cell_type": "code",
      "metadata": {
        "colab": {
          "base_uri": "https://localhost:8080/"
        },
        "id": "Rj2_e5tzOdeJ",
        "outputId": "c3d0c37d-cdb7-4caf-e745-5a0d3822f1ce"
      },
      "source": [
        "pip install numpy\n"
      ],
      "execution_count": 22,
      "outputs": [
        {
          "output_type": "stream",
          "text": [
            "Requirement already satisfied: numpy in /usr/local/lib/python3.7/dist-packages (1.19.5)\n"
          ],
          "name": "stdout"
        }
      ]
    },
    {
      "cell_type": "code",
      "metadata": {
        "colab": {
          "base_uri": "https://localhost:8080/"
        },
        "id": "mRfyao-HO6vh",
        "outputId": "e60afbd7-066d-4849-e913-ac22f062e97e"
      },
      "source": [
        "from numpy import *\n",
        "#In numpy mention the type at the end.\n",
        "arr=array([1,2,3,4,5],int)\n",
        "print(arr)"
      ],
      "execution_count": 23,
      "outputs": [
        {
          "output_type": "stream",
          "text": [
            "[1 2 3 4 5]\n"
          ],
          "name": "stdout"
        }
      ]
    },
    {
      "cell_type": "markdown",
      "metadata": {
        "id": "cz-l-Yc0PSTm"
      },
      "source": [
        "DIFFERENT WAYS OF CREATING ARRAY IN NUMPY:---\n",
        "\n",
        "1)array()\n",
        "\n",
        "2)linspace()\n",
        "\n",
        "3)logspace()\n",
        "\n",
        "4)arange()\n",
        "\n",
        "5)zeros()\n",
        "\n",
        "6)ones()"
      ]
    },
    {
      "cell_type": "code",
      "metadata": {
        "colab": {
          "base_uri": "https://localhost:8080/"
        },
        "id": "B2WoyK39PIts",
        "outputId": "36ec4b0a-6d3a-4b9f-faaa-998e907d62b3"
      },
      "source": [
        "from numpy import *\n",
        "arr=array([1,2,3,4,5])\n",
        "print(arr)"
      ],
      "execution_count": 24,
      "outputs": [
        {
          "output_type": "stream",
          "text": [
            "[1 2 3 4 5]\n"
          ],
          "name": "stdout"
        }
      ]
    },
    {
      "cell_type": "code",
      "metadata": {
        "colab": {
          "base_uri": "https://localhost:8080/"
        },
        "id": "uuavPMwZQdpV",
        "outputId": "25c81b1a-97de-4c8e-e50d-6abd43c46693"
      },
      "source": [
        "print(arr.dtype)"
      ],
      "execution_count": 25,
      "outputs": [
        {
          "output_type": "stream",
          "text": [
            "int64\n"
          ],
          "name": "stdout"
        }
      ]
    },
    {
      "cell_type": "code",
      "metadata": {
        "colab": {
          "base_uri": "https://localhost:8080/"
        },
        "id": "AfHW_TIEQgeL",
        "outputId": "5f470895-60c1-4860-d749-8260f3bead46"
      },
      "source": [
        "from numpy import *\n",
        "arr=array([1,2,3,4,5.0])#here allthe values are convered into float\n",
        "print(arr)"
      ],
      "execution_count": 26,
      "outputs": [
        {
          "output_type": "stream",
          "text": [
            "[1. 2. 3. 4. 5.]\n"
          ],
          "name": "stdout"
        }
      ]
    },
    {
      "cell_type": "code",
      "metadata": {
        "colab": {
          "base_uri": "https://localhost:8080/"
        },
        "id": "O9Kc5qGCQzxE",
        "outputId": "2994a257-3515-4063-a8fd-80c22b2cafd2"
      },
      "source": [
        "from numpy import *\n",
        "arr=linspace(0,15,16)#linspace(start,stop,steps)\n",
        "print(arr)\n",
        "#here all the values are float because we are breaking range partwise.So, normally if we divide in part,we can get a float value."
      ],
      "execution_count": 27,
      "outputs": [
        {
          "output_type": "stream",
          "text": [
            "[ 0.  1.  2.  3.  4.  5.  6.  7.  8.  9. 10. 11. 12. 13. 14. 15.]\n"
          ],
          "name": "stdout"
        }
      ]
    },
    {
      "cell_type": "code",
      "metadata": {
        "colab": {
          "base_uri": "https://localhost:8080/"
        },
        "id": "_Lq-lCwbRThV",
        "outputId": "46f0da28-36fc-4419-a718-8dde7ee877cf"
      },
      "source": [
        "from numpy import *\n",
        "arr=linspace(0,15,20)\n",
        "print(arr)"
      ],
      "execution_count": 28,
      "outputs": [
        {
          "output_type": "stream",
          "text": [
            "[ 0.          0.78947368  1.57894737  2.36842105  3.15789474  3.94736842\n",
            "  4.73684211  5.52631579  6.31578947  7.10526316  7.89473684  8.68421053\n",
            "  9.47368421 10.26315789 11.05263158 11.84210526 12.63157895 13.42105263\n",
            " 14.21052632 15.        ]\n"
          ],
          "name": "stdout"
        }
      ]
    },
    {
      "cell_type": "code",
      "metadata": {
        "colab": {
          "base_uri": "https://localhost:8080/"
        },
        "id": "2kL6RLzfRwqQ",
        "outputId": "10e840b9-034d-45e1-feaf-3649e961c36d"
      },
      "source": [
        "from numpy import *\n",
        "arr=linspace(0,15) #If we don't specify steps,it will by default divide it into 50 parts.\n",
        "print(arr)"
      ],
      "execution_count": 29,
      "outputs": [
        {
          "output_type": "stream",
          "text": [
            "[ 0.          0.30612245  0.6122449   0.91836735  1.2244898   1.53061224\n",
            "  1.83673469  2.14285714  2.44897959  2.75510204  3.06122449  3.36734694\n",
            "  3.67346939  3.97959184  4.28571429  4.59183673  4.89795918  5.20408163\n",
            "  5.51020408  5.81632653  6.12244898  6.42857143  6.73469388  7.04081633\n",
            "  7.34693878  7.65306122  7.95918367  8.26530612  8.57142857  8.87755102\n",
            "  9.18367347  9.48979592  9.79591837 10.10204082 10.40816327 10.71428571\n",
            " 11.02040816 11.32653061 11.63265306 11.93877551 12.24489796 12.55102041\n",
            " 12.85714286 13.16326531 13.46938776 13.7755102  14.08163265 14.3877551\n",
            " 14.69387755 15.        ]\n"
          ],
          "name": "stdout"
        }
      ]
    },
    {
      "cell_type": "code",
      "metadata": {
        "colab": {
          "base_uri": "https://localhost:8080/"
        },
        "id": "eL-RiywPR8gK",
        "outputId": "1eea4d7a-dca1-4bab-ee8d-ceac791fe8ee"
      },
      "source": [
        "from numpy import *\n",
        "arr=arange(1,15,2) #arange(first elem,last elem,steps)\n",
        "print(arr)"
      ],
      "execution_count": 30,
      "outputs": [
        {
          "output_type": "stream",
          "text": [
            "[ 1  3  5  7  9 11 13]\n"
          ],
          "name": "stdout"
        }
      ]
    },
    {
      "cell_type": "code",
      "metadata": {
        "colab": {
          "base_uri": "https://localhost:8080/"
        },
        "id": "_Ait6YPKSbBT",
        "outputId": "f5a8e9f3-1e64-431c-affd-d4ac226f303e"
      },
      "source": [
        "from numpy import *\n",
        "arr=logspace(1,40,5) #In logspace the spacing b/w 2 numbers will depend upon the log of it.\n",
        "print(arr)"
      ],
      "execution_count": 31,
      "outputs": [
        {
          "output_type": "stream",
          "text": [
            "[1.00000000e+01 5.62341325e+10 3.16227766e+20 1.77827941e+30\n",
            " 1.00000000e+40]\n"
          ],
          "name": "stdout"
        }
      ]
    },
    {
      "cell_type": "code",
      "metadata": {
        "colab": {
          "base_uri": "https://localhost:8080/"
        },
        "id": "aq44SLUySx0p",
        "outputId": "48f93161-289d-49bc-bbf3-e1a66c2bc399"
      },
      "source": [
        "from numpy import *\n",
        "arr=zeros(5,int) #zeros(size,dtype)\n",
        "print(arr)"
      ],
      "execution_count": 32,
      "outputs": [
        {
          "output_type": "stream",
          "text": [
            "[0 0 0 0 0]\n"
          ],
          "name": "stdout"
        }
      ]
    },
    {
      "cell_type": "code",
      "metadata": {
        "colab": {
          "base_uri": "https://localhost:8080/"
        },
        "id": "EG8XSm6QTEdJ",
        "outputId": "2de376f2-b24c-4a76-f129-417d43f52c78"
      },
      "source": [
        "from numpy import *\n",
        "arr=ones(5,int)\n",
        "print(arr)"
      ],
      "execution_count": 33,
      "outputs": [
        {
          "output_type": "stream",
          "text": [
            "[1 1 1 1 1]\n"
          ],
          "name": "stdout"
        }
      ]
    },
    {
      "cell_type": "markdown",
      "metadata": {
        "id": "OQz3-zH1TS90"
      },
      "source": [
        "Copying an array in python"
      ]
    },
    {
      "cell_type": "code",
      "metadata": {
        "colab": {
          "base_uri": "https://localhost:8080/"
        },
        "id": "oLqzcy7VTL1W",
        "outputId": "1b074f40-7d7a-4ffa-f82a-b5cf7f751849"
      },
      "source": [
        "from numpy import *\n",
        "arr=array([1,2,3,4,5])\n",
        "arr=arr+5\n",
        "print(arr)"
      ],
      "execution_count": 34,
      "outputs": [
        {
          "output_type": "stream",
          "text": [
            "[ 6  7  8  9 10]\n"
          ],
          "name": "stdout"
        }
      ]
    },
    {
      "cell_type": "code",
      "metadata": {
        "colab": {
          "base_uri": "https://localhost:8080/"
        },
        "id": "O61djlMCTgCj",
        "outputId": "f1b04c4e-ab39-45fc-c0c6-51adb4e9bedb"
      },
      "source": [
        "from numpy import *\n",
        "arr1=array([1,2,3,4,5])\n",
        "arr2=array([6,1,9,3,2])\n",
        "arr3=arr1 + arr2\n",
        "print(arr3)"
      ],
      "execution_count": 35,
      "outputs": [
        {
          "output_type": "stream",
          "text": [
            "[ 7  3 12  7  7]\n"
          ],
          "name": "stdout"
        }
      ]
    },
    {
      "cell_type": "code",
      "metadata": {
        "colab": {
          "base_uri": "https://localhost:8080/"
        },
        "id": "3SBBoOHvTxZq",
        "outputId": "c12007ba-dfaa-4ad4-bf4d-313bc42c21ad"
      },
      "source": [
        "from numpy import *\n",
        "arr=array([1,2,3,4,5])\n",
        "print(sin(arr))"
      ],
      "execution_count": 36,
      "outputs": [
        {
          "output_type": "stream",
          "text": [
            "[ 0.84147098  0.90929743  0.14112001 -0.7568025  -0.95892427]\n"
          ],
          "name": "stdout"
        }
      ]
    },
    {
      "cell_type": "code",
      "metadata": {
        "colab": {
          "base_uri": "https://localhost:8080/"
        },
        "id": "WI0EzwqOT-V0",
        "outputId": "5eeafa39-79d9-4485-f748-05a2601cb128"
      },
      "source": [
        "print(cos(arr))"
      ],
      "execution_count": 37,
      "outputs": [
        {
          "output_type": "stream",
          "text": [
            "[ 0.54030231 -0.41614684 -0.9899925  -0.65364362  0.28366219]\n"
          ],
          "name": "stdout"
        }
      ]
    },
    {
      "cell_type": "code",
      "metadata": {
        "colab": {
          "base_uri": "https://localhost:8080/"
        },
        "id": "BDCLUT5ZUBgw",
        "outputId": "58f581e0-8fcd-437a-db06-0bdbb0eb9c53"
      },
      "source": [
        "print(max(arr))"
      ],
      "execution_count": 38,
      "outputs": [
        {
          "output_type": "stream",
          "text": [
            "5\n"
          ],
          "name": "stdout"
        }
      ]
    },
    {
      "cell_type": "code",
      "metadata": {
        "colab": {
          "base_uri": "https://localhost:8080/"
        },
        "id": "hFx0_3kmUDX1",
        "outputId": "95645d35-c393-45e1-a15c-4abc63aeb186"
      },
      "source": [
        "print(log(arr))"
      ],
      "execution_count": 39,
      "outputs": [
        {
          "output_type": "stream",
          "text": [
            "[0.         0.69314718 1.09861229 1.38629436 1.60943791]\n"
          ],
          "name": "stdout"
        }
      ]
    },
    {
      "cell_type": "code",
      "metadata": {
        "colab": {
          "base_uri": "https://localhost:8080/"
        },
        "id": "SvD_BFiCUFYU",
        "outputId": "c3613f50-842c-4050-915c-7740217c0aec"
      },
      "source": [
        "print(unique(arr))"
      ],
      "execution_count": 40,
      "outputs": [
        {
          "output_type": "stream",
          "text": [
            "[1 2 3 4 5]\n"
          ],
          "name": "stdout"
        }
      ]
    },
    {
      "cell_type": "code",
      "metadata": {
        "colab": {
          "base_uri": "https://localhost:8080/"
        },
        "id": "ZP2c-R8JUH27",
        "outputId": "25561441-b09f-459a-ad2e-c6aa5d28c8f8"
      },
      "source": [
        "print(sqrt(arr))"
      ],
      "execution_count": 41,
      "outputs": [
        {
          "output_type": "stream",
          "text": [
            "[1.         1.41421356 1.73205081 2.         2.23606798]\n"
          ],
          "name": "stdout"
        }
      ]
    },
    {
      "cell_type": "code",
      "metadata": {
        "colab": {
          "base_uri": "https://localhost:8080/"
        },
        "id": "aKNfbWVeUMAZ",
        "outputId": "ef3a7d5e-9b64-4b5a-99ab-c6139d3bb059"
      },
      "source": [
        "from numpy import *\n",
        "arr1=array([2,6,8,1,3])\n",
        "arr2=arr1 #here both points to same memory location i.e;aliasing\n",
        "print(arr1)\n",
        "print(arr2)"
      ],
      "execution_count": 45,
      "outputs": [
        {
          "output_type": "stream",
          "text": [
            "[2 6 8 1 3]\n",
            "[2 6 8 1 3]\n"
          ],
          "name": "stdout"
        }
      ]
    },
    {
      "cell_type": "code",
      "metadata": {
        "colab": {
          "base_uri": "https://localhost:8080/"
        },
        "id": "0ylTSQGAUXjT",
        "outputId": "0561ee00-a5b6-496c-e38e-f38a314440b1"
      },
      "source": [
        "from numpy import *\n",
        "arr1=array([2,6,8,1,3])\n",
        "arr2=arr1.view()\n",
        "print(arr1)\n",
        "print(arr2)\n",
        "print(id(arr1))\n",
        "print(id(arr2))"
      ],
      "execution_count": 46,
      "outputs": [
        {
          "output_type": "stream",
          "text": [
            "[2 6 8 1 3]\n",
            "[2 6 8 1 3]\n",
            "140684096951280\n",
            "140684096447472\n"
          ],
          "name": "stdout"
        }
      ]
    },
    {
      "cell_type": "markdown",
      "metadata": {
        "id": "7FE54DdQVVFa"
      },
      "source": [
        "Shallow Copy(both array will depend on each other)"
      ]
    },
    {
      "cell_type": "code",
      "metadata": {
        "colab": {
          "base_uri": "https://localhost:8080/"
        },
        "id": "s8NB07r3VO2Y",
        "outputId": "6050eae6-401f-49e5-e688-ab320d538f41"
      },
      "source": [
        "from numpy import *\n",
        "arr1=array([2,6,8,1,3])\n",
        "arr2=arr1.view()\n",
        "arr1[1]=7\n",
        "print(arr1)\n",
        "print(arr2)\n",
        "print(id(arr1))\n",
        "print(id(arr2))"
      ],
      "execution_count": 47,
      "outputs": [
        {
          "output_type": "stream",
          "text": [
            "[2 7 8 1 3]\n",
            "[2 7 8 1 3]\n",
            "140684096292064\n",
            "140684097179520\n"
          ],
          "name": "stdout"
        }
      ]
    },
    {
      "cell_type": "markdown",
      "metadata": {
        "id": "BP2mUxCDV54D"
      },
      "source": [
        "Deep Copy(both array is independent of each other)"
      ]
    },
    {
      "cell_type": "code",
      "metadata": {
        "colab": {
          "base_uri": "https://localhost:8080/"
        },
        "id": "ol2vQcr4V2MM",
        "outputId": "024b6943-7953-4363-843f-76dc258dcc46"
      },
      "source": [
        "from numpy import *\n",
        "arr1=array([2,6,8,1,3])\n",
        "arr2=arr1.copy()\n",
        "arr1[1]=7\n",
        "print(arr1)\n",
        "print(arr2)"
      ],
      "execution_count": 49,
      "outputs": [
        {
          "output_type": "stream",
          "text": [
            "[2 7 8 1 3]\n",
            "[2 6 8 1 3]\n"
          ],
          "name": "stdout"
        }
      ]
    },
    {
      "cell_type": "markdown",
      "metadata": {
        "id": "vWrnWNZIWecI"
      },
      "source": [
        "working with Mtrix in Python"
      ]
    },
    {
      "cell_type": "code",
      "metadata": {
        "colab": {
          "base_uri": "https://localhost:8080/"
        },
        "id": "hjdMicVmWOei",
        "outputId": "28dd869f-d797-4868-f4c5-bc0712cdfc87"
      },
      "source": [
        "from numpy import *\n",
        "arr1=array([\n",
        "             [1,2,3],    \n",
        "            [4,5,6]\n",
        "         ])\n",
        "print(arr1)\n"
      ],
      "execution_count": 50,
      "outputs": [
        {
          "output_type": "stream",
          "text": [
            "[[1 2 3]\n",
            " [4 5 6]]\n"
          ],
          "name": "stdout"
        }
      ]
    },
    {
      "cell_type": "code",
      "metadata": {
        "colab": {
          "base_uri": "https://localhost:8080/"
        },
        "id": "2SzMWAwhWzAW",
        "outputId": "3308dd86-2320-4799-ae1b-f925f228f622"
      },
      "source": [
        "print(arr1.dtype)"
      ],
      "execution_count": 51,
      "outputs": [
        {
          "output_type": "stream",
          "text": [
            "int64\n"
          ],
          "name": "stdout"
        }
      ]
    },
    {
      "cell_type": "code",
      "metadata": {
        "colab": {
          "base_uri": "https://localhost:8080/"
        },
        "id": "gcsRJdt0W1hp",
        "outputId": "d92b064a-da9e-45e3-a400-2694c7b9db5a"
      },
      "source": [
        "print(arr1.ndim)#gives dimenions/ranking"
      ],
      "execution_count": 52,
      "outputs": [
        {
          "output_type": "stream",
          "text": [
            "2\n"
          ],
          "name": "stdout"
        }
      ]
    },
    {
      "cell_type": "code",
      "metadata": {
        "colab": {
          "base_uri": "https://localhost:8080/"
        },
        "id": "HxCWEQNjW9RN",
        "outputId": "bdbfd078-08cb-4a4d-dfce-1bcfe271c54e"
      },
      "source": [
        "print(arr1.shape)#gives no. of rows and columns"
      ],
      "execution_count": 53,
      "outputs": [
        {
          "output_type": "stream",
          "text": [
            "(2, 3)\n"
          ],
          "name": "stdout"
        }
      ]
    },
    {
      "cell_type": "code",
      "metadata": {
        "colab": {
          "base_uri": "https://localhost:8080/"
        },
        "id": "W0t596XUXIDD",
        "outputId": "55974f91-1b02-4f8b-f5b0-ae2d5e582528"
      },
      "source": [
        "print(arr1.size)#size of entire block"
      ],
      "execution_count": 54,
      "outputs": [
        {
          "output_type": "stream",
          "text": [
            "6\n"
          ],
          "name": "stdout"
        }
      ]
    },
    {
      "cell_type": "code",
      "metadata": {
        "colab": {
          "base_uri": "https://localhost:8080/"
        },
        "id": "21YlkSdmXN9P",
        "outputId": "6d7b62cb-f7bb-4eb3-c185-baff6b693c28"
      },
      "source": [
        "from numpy import *\n",
        "arr1=array([\n",
        "             [1,2,3],    \n",
        "            [4,5,6]\n",
        "         ])\n",
        "arr2=arr1.flatten()#converts 2D array into 1D array\n",
        "print(arr2)"
      ],
      "execution_count": 55,
      "outputs": [
        {
          "output_type": "stream",
          "text": [
            "[1 2 3 4 5 6]\n"
          ],
          "name": "stdout"
        }
      ]
    },
    {
      "cell_type": "code",
      "metadata": {
        "colab": {
          "base_uri": "https://localhost:8080/"
        },
        "id": "xgnfuHkEXdeQ",
        "outputId": "1d4094bb-b248-42a0-aaff-83168e4f8b75"
      },
      "source": [
        "from numpy import *\n",
        "arr1=array([\n",
        "             [1,2,3,6,2,9],\n",
        "            [4,5,6,7,5,3]       \n",
        "\n",
        "           ])\n",
        "arr2=arr1.flatten()\n",
        "arr3=arr2.reshape(3,4)#reshape(rows,columns)   #converts 1d array into 2d array\n",
        "print(arr3)"
      ],
      "execution_count": 56,
      "outputs": [
        {
          "output_type": "stream",
          "text": [
            "[[1 2 3 6]\n",
            " [2 9 4 5]\n",
            " [6 7 5 3]]\n"
          ],
          "name": "stdout"
        }
      ]
    },
    {
      "cell_type": "code",
      "metadata": {
        "colab": {
          "base_uri": "https://localhost:8080/"
        },
        "id": "Y1L0h2DhX_Jx",
        "outputId": "e01947da-000b-4e2a-f8f7-89f26899835f"
      },
      "source": [
        "arr3=arr2.reshape(2,2,3)#create a 3D array & that 3D array will have 2 2d array & each 2D array will have 2 1D array & each 1D array will have 3 values\n",
        "print(arr3)"
      ],
      "execution_count": 57,
      "outputs": [
        {
          "output_type": "stream",
          "text": [
            "[[[1 2 3]\n",
            "  [6 2 9]]\n",
            "\n",
            " [[4 5 6]\n",
            "  [7 5 3]]]\n"
          ],
          "name": "stdout"
        }
      ]
    },
    {
      "cell_type": "markdown",
      "metadata": {
        "id": "Bq1dGGa1YkNN"
      },
      "source": [
        "Matrices"
      ]
    },
    {
      "cell_type": "code",
      "metadata": {
        "colab": {
          "base_uri": "https://localhost:8080/"
        },
        "id": "VjxEHlPiYd8f",
        "outputId": "fd74b548-90da-40f3-bbc8-4cecffa7c4c2"
      },
      "source": [
        "from numpy import *\n",
        "arr1=array([\n",
        "             [1,2,3],    \n",
        "            [4,5,6]\n",
        "         ])\n",
        "m=matrix(arr1)\n",
        "print(m)\n",
        "#output looks same but with this m we can perform more operations"
      ],
      "execution_count": 58,
      "outputs": [
        {
          "output_type": "stream",
          "text": [
            "[[1 2 3]\n",
            " [4 5 6]]\n"
          ],
          "name": "stdout"
        }
      ]
    },
    {
      "cell_type": "code",
      "metadata": {
        "colab": {
          "base_uri": "https://localhost:8080/"
        },
        "id": "13z-JKhfY5Gs",
        "outputId": "03a189a6-2dc7-4a31-a750-b9f82c2cae9d"
      },
      "source": [
        "from numpy import *\n",
        "m=matrix('1 2 3 6 ; 4 5 6 7')\n",
        "print(m)"
      ],
      "execution_count": 59,
      "outputs": [
        {
          "output_type": "stream",
          "text": [
            "[[1 2 3 6]\n",
            " [4 5 6 7]]\n"
          ],
          "name": "stdout"
        }
      ]
    },
    {
      "cell_type": "code",
      "metadata": {
        "colab": {
          "base_uri": "https://localhost:8080/"
        },
        "id": "tXPdGWz9ZOaY",
        "outputId": "1516c109-0d4e-45d0-a469-fc7d50ab67a4"
      },
      "source": [
        "from numpy import *\n",
        "m=matrix('1 2 ; 3 6 ; 4 5 ; 6 7')\n",
        "print(m)"
      ],
      "execution_count": 60,
      "outputs": [
        {
          "output_type": "stream",
          "text": [
            "[[1 2]\n",
            " [3 6]\n",
            " [4 5]\n",
            " [6 7]]\n"
          ],
          "name": "stdout"
        }
      ]
    },
    {
      "cell_type": "code",
      "metadata": {
        "colab": {
          "base_uri": "https://localhost:8080/"
        },
        "id": "zdS9qcZVZT0R",
        "outputId": "ceb5efc4-80b8-46af-a3ff-6524dfe383c8"
      },
      "source": [
        "#to print diagonal elements\n",
        "from numpy import *\n",
        "m=matrix('1 2 3 ; 6 4 5 ; 1 6 7')\n",
        "print(diagonal(m))"
      ],
      "execution_count": 61,
      "outputs": [
        {
          "output_type": "stream",
          "text": [
            "[1 4 7]\n"
          ],
          "name": "stdout"
        }
      ]
    },
    {
      "cell_type": "code",
      "metadata": {
        "colab": {
          "base_uri": "https://localhost:8080/"
        },
        "id": "wYhobzKtZlt6",
        "outputId": "fb2a201e-d4c6-4450-a422-ab0aec1d07fc"
      },
      "source": [
        "from numpy import *\n",
        "m=matrix('1 2 ; 3 6 ; 4 5 ; 6 7')\n",
        "print(m.min())"
      ],
      "execution_count": 62,
      "outputs": [
        {
          "output_type": "stream",
          "text": [
            "1\n"
          ],
          "name": "stdout"
        }
      ]
    },
    {
      "cell_type": "code",
      "metadata": {
        "colab": {
          "base_uri": "https://localhost:8080/"
        },
        "id": "XH8avHn4ZsOI",
        "outputId": "25cf6aed-42eb-47be-94d7-ea1c74a53c92"
      },
      "source": [
        "print(m.max())"
      ],
      "execution_count": 63,
      "outputs": [
        {
          "output_type": "stream",
          "text": [
            "7\n"
          ],
          "name": "stdout"
        }
      ]
    },
    {
      "cell_type": "code",
      "metadata": {
        "colab": {
          "base_uri": "https://localhost:8080/"
        },
        "id": "S4HOKcSFZuFm",
        "outputId": "3df55534-ee28-4a78-a88d-c65e0565ee3d"
      },
      "source": [
        "from numpy import *\n",
        "m1=matrix('1 2 3 ; 6 4 5 ; 1 6 7')\n",
        "m2=matrix('1 2 3 ; 6 8 5 ; 2 6 7')\n",
        "m3=m1 + m2\n",
        "print(m3)"
      ],
      "execution_count": 64,
      "outputs": [
        {
          "output_type": "stream",
          "text": [
            "[[ 2  4  6]\n",
            " [12 12 10]\n",
            " [ 3 12 14]]\n"
          ],
          "name": "stdout"
        }
      ]
    },
    {
      "cell_type": "code",
      "metadata": {
        "colab": {
          "base_uri": "https://localhost:8080/"
        },
        "id": "TigAYc2iaB7B",
        "outputId": "6c67d70c-7791-4b4d-f193-8ae4d3ae3206"
      },
      "source": [
        "m3=m1 * m2\n",
        "print(m3)"
      ],
      "execution_count": 65,
      "outputs": [
        {
          "output_type": "stream",
          "text": [
            "[[19 36 34]\n",
            " [40 74 73]\n",
            " [51 92 82]]\n"
          ],
          "name": "stdout"
        }
      ]
    },
    {
      "cell_type": "code",
      "metadata": {
        "id": "pRtLfcpRaHdm"
      },
      "source": [
        ""
      ],
      "execution_count": null,
      "outputs": []
    }
  ]
}
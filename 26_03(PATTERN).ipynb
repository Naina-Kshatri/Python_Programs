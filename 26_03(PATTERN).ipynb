{
  "nbformat": 4,
  "nbformat_minor": 0,
  "metadata": {
    "colab": {
      "name": "26/03(PATTERN).ipynb",
      "provenance": [],
      "collapsed_sections": [],
      "authorship_tag": "ABX9TyNf+X3M0BAYyCfzIaxzy63C",
      "include_colab_link": true
    },
    "kernelspec": {
      "name": "python3",
      "display_name": "Python 3"
    },
    "language_info": {
      "name": "python"
    }
  },
  "cells": [
    {
      "cell_type": "markdown",
      "metadata": {
        "id": "view-in-github",
        "colab_type": "text"
      },
      "source": [
        "<a href=\"https://colab.research.google.com/github/Naina-Kshatri/Python_Programs/blob/main/26_03(PATTERN).ipynb\" target=\"_parent\"><img src=\"https://colab.research.google.com/assets/colab-badge.svg\" alt=\"Open In Colab\"/></a>"
      ]
    },
    {
      "cell_type": "code",
      "metadata": {
        "colab": {
          "base_uri": "https://localhost:8080/"
        },
        "id": "T-Hn_onQhS6X",
        "outputId": "bb8e245f-32dd-405b-bdb5-bdf747d776a0"
      },
      "source": [
        "for i in range(1,6):\n",
        "    for j in range(1,6):\n",
        "        print(\"*\",end=\"\")\n",
        "    print()    "
      ],
      "execution_count": 1,
      "outputs": [
        {
          "output_type": "stream",
          "text": [
            "*****\n",
            "*****\n",
            "*****\n",
            "*****\n",
            "*****\n"
          ],
          "name": "stdout"
        }
      ]
    },
    {
      "cell_type": "code",
      "metadata": {
        "colab": {
          "base_uri": "https://localhost:8080/"
        },
        "id": "gvz4gueri-qj",
        "outputId": "147b4459-148b-4925-a91a-76bc6784e20b"
      },
      "source": [
        "for i in range(1,6):\n",
        "    for j in range(1,6):\n",
        "        print(i,end=\"\")\n",
        "    print()    "
      ],
      "execution_count": 2,
      "outputs": [
        {
          "output_type": "stream",
          "text": [
            "11111\n",
            "22222\n",
            "33333\n",
            "44444\n",
            "55555\n"
          ],
          "name": "stdout"
        }
      ]
    },
    {
      "cell_type": "code",
      "metadata": {
        "colab": {
          "base_uri": "https://localhost:8080/"
        },
        "id": "Na7yVlROjMZv",
        "outputId": "3dc464ab-f9eb-4714-c90f-3fac54a93a1f"
      },
      "source": [
        "for i in range(1,6):\n",
        "     for j in range(1,6):\n",
        "         print(j,end=\"\")\n",
        "     print()    "
      ],
      "execution_count": 3,
      "outputs": [
        {
          "output_type": "stream",
          "text": [
            "12345\n",
            "12345\n",
            "12345\n",
            "12345\n",
            "12345\n"
          ],
          "name": "stdout"
        }
      ]
    },
    {
      "cell_type": "code",
      "metadata": {
        "colab": {
          "base_uri": "https://localhost:8080/"
        },
        "id": "GnzOoUxijW-7",
        "outputId": "0ece2d90-77b9-405c-a5dd-b3005c400465"
      },
      "source": [
        "for i in range(5,0,-1):\n",
        "     for j in range(0,5,1):\n",
        "         print(i,end=\"\")\n",
        "     print()    "
      ],
      "execution_count": 4,
      "outputs": [
        {
          "output_type": "stream",
          "text": [
            "55555\n",
            "44444\n",
            "33333\n",
            "22222\n",
            "11111\n"
          ],
          "name": "stdout"
        }
      ]
    },
    {
      "cell_type": "code",
      "metadata": {
        "colab": {
          "base_uri": "https://localhost:8080/"
        },
        "id": "IKR5-oA7jk8J",
        "outputId": "8c6927e1-352d-4993-904f-52909911d566"
      },
      "source": [
        "for i in range(5,0,-1):\n",
        "    for j in range(5,0,-1):\n",
        "        print(j,end=\"\")\n",
        "    print()    "
      ],
      "execution_count": 7,
      "outputs": [
        {
          "output_type": "stream",
          "text": [
            "54321\n",
            "54321\n",
            "54321\n",
            "54321\n",
            "54321\n"
          ],
          "name": "stdout"
        }
      ]
    },
    {
      "cell_type": "code",
      "metadata": {
        "colab": {
          "base_uri": "https://localhost:8080/"
        },
        "id": "QTg8VbZejyBS",
        "outputId": "7458f20e-8d95-4614-8d55-9a5d23ac1f46"
      },
      "source": [
        "n=5\n",
        "k=1\n",
        "for i in range(1,n+1):\n",
        "    for j in range(1,n+1):\n",
        "        print(\"{:2d}\".format(k),end=\"\")\n",
        "        k+=1\n",
        "    print()    "
      ],
      "execution_count": 8,
      "outputs": [
        {
          "output_type": "stream",
          "text": [
            " 1 2 3 4 5\n",
            " 6 7 8 910\n",
            "1112131415\n",
            "1617181920\n",
            "2122232425\n"
          ],
          "name": "stdout"
        }
      ]
    },
    {
      "cell_type": "code",
      "metadata": {
        "colab": {
          "base_uri": "https://localhost:8080/"
        },
        "id": "YUnAluxskKvO",
        "outputId": "1852c6fe-a6e2-4175-c139-4bbc447c1deb"
      },
      "source": [
        "n=5\n",
        "p=1\n",
        "for i in range(1,n+1):\n",
        "    for j in range(1,n+1):\n",
        "        print(\"{:2d}\".format(p),end=\"\")\n",
        "        p+=2\n",
        "    print()    "
      ],
      "execution_count": 9,
      "outputs": [
        {
          "output_type": "stream",
          "text": [
            " 1 3 5 7 9\n",
            "1113151719\n",
            "2123252729\n",
            "3133353739\n",
            "4143454749\n"
          ],
          "name": "stdout"
        }
      ]
    },
    {
      "cell_type": "code",
      "metadata": {
        "colab": {
          "base_uri": "https://localhost:8080/"
        },
        "id": "EL_in77Vkhvh",
        "outputId": "0db55cdc-00cf-4d8a-9d48-5019f735e740"
      },
      "source": [
        "n=5\n",
        "p=2\n",
        "for i in range(1,n+1):\n",
        "     for j in range(1,n+1):\n",
        "        print(\"{:2d}\".format(p),end=\"\")\n",
        "        p+=2\n",
        "     print()   "
      ],
      "execution_count": 10,
      "outputs": [
        {
          "output_type": "stream",
          "text": [
            " 2 4 6 810\n",
            "1214161820\n",
            "2224262830\n",
            "3234363840\n",
            "4244464850\n"
          ],
          "name": "stdout"
        }
      ]
    },
    {
      "cell_type": "code",
      "metadata": {
        "colab": {
          "base_uri": "https://localhost:8080/"
        },
        "id": "f6T7ZaTuk1iP",
        "outputId": "78a4a43f-1d9a-4d8e-8224-67535cdd992a"
      },
      "source": [
        "n=5\n",
        "for i in range(1,n+1):\n",
        "     for j in range(1,n+1):\n",
        "         print(\"{:2d}\".format((i*j)),\"\",end=\"\")\n",
        "     print()"
      ],
      "execution_count": 13,
      "outputs": [
        {
          "output_type": "stream",
          "text": [
            " 1  2  3  4  5 \n",
            " 2  4  6  8 10 \n",
            " 3  6  9 12 15 \n",
            " 4  8 12 16 20 \n",
            " 5 10 15 20 25 \n"
          ],
          "name": "stdout"
        }
      ]
    },
    {
      "cell_type": "code",
      "metadata": {
        "colab": {
          "base_uri": "https://localhost:8080/"
        },
        "id": "ZoyLcmtflMVC",
        "outputId": "3881b875-a1eb-4cb8-f2a2-ae294b6a66b0"
      },
      "source": [
        "for i in range(1,6):\n",
        "    for j in range(1,4):\n",
        "        print(\"{} {}\".format(j,i),\"\",end=\"\")\n",
        "    print()\n",
        "        "
      ],
      "execution_count": 20,
      "outputs": [
        {
          "output_type": "stream",
          "text": [
            "1 1 2 1 3 1 \n",
            "1 2 2 2 3 2 \n",
            "1 3 2 3 3 3 \n",
            "1 4 2 4 3 4 \n",
            "1 5 2 5 3 5 \n"
          ],
          "name": "stdout"
        }
      ]
    },
    {
      "cell_type": "code",
      "metadata": {
        "colab": {
          "base_uri": "https://localhost:8080/"
        },
        "id": "BnXb9MN5mCQM",
        "outputId": "b6fe3ba0-52c9-49f4-8e4f-1d5151249109"
      },
      "source": [
        "for i in range(1,6):\n",
        "     for j in range(1,4):\n",
        "         print(\"{} {}\".format(i,j),\"\",end=\"\")\n",
        "     print()    "
      ],
      "execution_count": 22,
      "outputs": [
        {
          "output_type": "stream",
          "text": [
            "1 1 1 2 1 3 \n",
            "2 1 2 2 2 3 \n",
            "3 1 3 2 3 3 \n",
            "4 1 4 2 4 3 \n",
            "5 1 5 2 5 3 \n"
          ],
          "name": "stdout"
        }
      ]
    },
    {
      "cell_type": "code",
      "metadata": {
        "colab": {
          "base_uri": "https://localhost:8080/"
        },
        "id": "7YhqLATimj11",
        "outputId": "3a2645f8-f5a3-470a-cfbc-049e4ad8c809"
      },
      "source": [
        "n=5\n",
        "for i in range(1,n+1):\n",
        "    p=i\n",
        "    for j in range(1,n+1):\n",
        "        print(\"{:2d}\".format(p),\"\",end=\"\")\n",
        "        p+=n\n",
        "    print()    "
      ],
      "execution_count": 23,
      "outputs": [
        {
          "output_type": "stream",
          "text": [
            " 1  6 11 16 21 \n",
            " 2  7 12 17 22 \n",
            " 3  8 13 18 23 \n",
            " 4  9 14 19 24 \n",
            " 5 10 15 20 25 \n"
          ],
          "name": "stdout"
        }
      ]
    },
    {
      "cell_type": "code",
      "metadata": {
        "colab": {
          "base_uri": "https://localhost:8080/"
        },
        "id": "fuXJA99Sne93",
        "outputId": "9d092829-6c52-4e13-8b3b-df47a7b6f610"
      },
      "source": [
        "n=5\n",
        "for i in range(1,n+1):\n",
        "    p1=i\n",
        "    p2=n-i+1\n",
        "    for j in range(1,n+1):\n",
        "        if(j%2==1):\n",
        "           print(\"{:2d}\".format(p1),\"\",end=\"\")\n",
        "        else:\n",
        "             print(\"{:2d}\".format(p2),\"\",end=\"\")\n",
        "        p1+=n\n",
        "        p2+=n\n",
        "    print()                "
      ],
      "execution_count": 24,
      "outputs": [
        {
          "output_type": "stream",
          "text": [
            " 1 10 11 20 21 \n",
            " 2  9 12 19 22 \n",
            " 3  8 13 18 23 \n",
            " 4  7 14 17 24 \n",
            " 5  6 15 16 25 \n"
          ],
          "name": "stdout"
        }
      ]
    },
    {
      "cell_type": "code",
      "metadata": {
        "id": "IOYRQDMZo_kN"
      },
      "source": [
        ""
      ],
      "execution_count": null,
      "outputs": []
    }
  ]
}
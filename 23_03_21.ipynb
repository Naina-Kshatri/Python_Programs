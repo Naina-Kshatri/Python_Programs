{
  "nbformat": 4,
  "nbformat_minor": 0,
  "metadata": {
    "colab": {
      "name": "23/03/21.ipynb",
      "provenance": [],
      "authorship_tag": "ABX9TyNKk1EHa1lhGdzt7aCF3BjX",
      "include_colab_link": true
    },
    "kernelspec": {
      "name": "python3",
      "display_name": "Python 3"
    },
    "language_info": {
      "name": "python"
    }
  },
  "cells": [
    {
      "cell_type": "markdown",
      "metadata": {
        "id": "view-in-github",
        "colab_type": "text"
      },
      "source": [
        "<a href=\"https://colab.research.google.com/github/Naina-Kshatri/Python_Programs/blob/main/23_03_21.ipynb\" target=\"_parent\"><img src=\"https://colab.research.google.com/assets/colab-badge.svg\" alt=\"Open In Colab\"/></a>"
      ]
    },
    {
      "cell_type": "markdown",
      "metadata": {
        "id": "ePoi8zvid_OR"
      },
      "source": [
        "FACTORIAL\n",
        "using ternary operator"
      ]
    },
    {
      "cell_type": "code",
      "metadata": {
        "colab": {
          "base_uri": "https://localhost:8080/"
        },
        "id": "Y06j5HEceDVO",
        "outputId": "53372312-6cc5-4377-8c77-6d32574f6404"
      },
      "source": [
        "def fact(n):\n",
        "    return 1 if(n==1 or n==0) else n*fact(n-1)\n",
        "num=5\n",
        "print(\"Factorial of\",num,\"is\",fact(num))    "
      ],
      "execution_count": 1,
      "outputs": [
        {
          "output_type": "stream",
          "text": [
            "Factorial of 5 is 120\n"
          ],
          "name": "stdout"
        }
      ]
    },
    {
      "cell_type": "markdown",
      "metadata": {
        "id": "KFoUkqDOevr6"
      },
      "source": [
        "iterative opeartor"
      ]
    },
    {
      "cell_type": "code",
      "metadata": {
        "colab": {
          "base_uri": "https://localhost:8080/"
        },
        "id": "MNx70zvsezNk",
        "outputId": "c9025bb0-f3f9-4e81-cd75-8f8aeb9277e4"
      },
      "source": [
        "def fact(n):\n",
        "    if n<0:\n",
        "       return 0\n",
        "    elif n==0 or n==1:\n",
        "         return 1\n",
        "    else:\n",
        "         fact=1\n",
        "         while(n>1):\n",
        "              fact*=n\n",
        "              n-=1\n",
        "         return fact\n",
        "num=5\n",
        "print(\"factorial of\",num,\"is\",fact(num))            "
      ],
      "execution_count": 3,
      "outputs": [
        {
          "output_type": "stream",
          "text": [
            "factorial of 5 is 120\n"
          ],
          "name": "stdout"
        }
      ]
    },
    {
      "cell_type": "markdown",
      "metadata": {
        "id": "DCgeY7w2hWkl"
      },
      "source": [
        "SIMPLE INTEREST"
      ]
    },
    {
      "cell_type": "code",
      "metadata": {
        "colab": {
          "base_uri": "https://localhost:8080/"
        },
        "id": "Qcl_1GwVfyg0",
        "outputId": "93f89648-e65a-4616-8753-9aaee72be4ca"
      },
      "source": [
        "def sim_int(p,t,r):\n",
        "    print(\"principal is\",p)\n",
        "    print(\"time period is\",t)\n",
        "    print(\"rate is\",r)\n",
        "    si=(p*t*r)/100\n",
        "    print(\"Simple Interest is\",si)\n",
        "    return si\n",
        "sim_int(5,4,6)"
      ],
      "execution_count": 4,
      "outputs": [
        {
          "output_type": "stream",
          "text": [
            "principal is 5\n",
            "time period is 4\n",
            "rate is 6\n",
            "Simple Interest is 1.2\n"
          ],
          "name": "stdout"
        },
        {
          "output_type": "execute_result",
          "data": {
            "text/plain": [
              "1.2"
            ]
          },
          "metadata": {
            "tags": []
          },
          "execution_count": 4
        }
      ]
    },
    {
      "cell_type": "markdown",
      "metadata": {
        "id": "v6xVJSTZiMKr"
      },
      "source": [
        "COMPOUND INTEREST"
      ]
    },
    {
      "cell_type": "code",
      "metadata": {
        "colab": {
          "base_uri": "https://localhost:8080/"
        },
        "id": "UkS4kMyriPGw",
        "outputId": "72b8871b-b553-4b8e-befa-4786e814e2a5"
      },
      "source": [
        "def com_int(p,t,r):\n",
        "    amount=p*(pow((1+r/100),t))\n",
        "    ci=amount-p\n",
        "    print(\"Compound Interest is\",ci)\n",
        "com_int(1000,5,1.5)    "
      ],
      "execution_count": 9,
      "outputs": [
        {
          "output_type": "stream",
          "text": [
            "Compound Interest is 77.28400388437444\n"
          ],
          "name": "stdout"
        }
      ]
    },
    {
      "cell_type": "markdown",
      "metadata": {
        "id": "H2mowIK4j2X-"
      },
      "source": [
        "ARMSTRONG NUMBER"
      ]
    },
    {
      "cell_type": "code",
      "metadata": {
        "colab": {
          "base_uri": "https://localhost:8080/"
        },
        "id": "ddnQmghsj4dd",
        "outputId": "bd89b967-4fdc-4329-8f96-80a534cfbf1f"
      },
      "source": [
        "num=int(input(\"enter a number\"))\n",
        "order=len(str(num))\n",
        "sum=0\n",
        "temp=num\n",
        "while(temp!=0):\n",
        "      r=temp%10\n",
        "      sum+=r**order\n",
        "      temp//=10\n",
        "if (num==sum):\n",
        "    print(num,\"is an armstrong number\")\n",
        "else:\n",
        "     print(num,\"is not an armstrong number\")\n",
        "     "
      ],
      "execution_count": 13,
      "outputs": [
        {
          "output_type": "stream",
          "text": [
            "enter a number1234\n",
            "1234 is not an armstrong number\n"
          ],
          "name": "stdout"
        }
      ]
    }
  ]
}
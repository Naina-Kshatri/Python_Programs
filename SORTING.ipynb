{
  "nbformat": 4,
  "nbformat_minor": 0,
  "metadata": {
    "colab": {
      "name": "SORTING.ipynb",
      "provenance": [],
      "collapsed_sections": [],
      "authorship_tag": "ABX9TyPcNYd93sty8C7cLY9pWUHI",
      "include_colab_link": true
    },
    "kernelspec": {
      "name": "python3",
      "display_name": "Python 3"
    },
    "language_info": {
      "name": "python"
    }
  },
  "cells": [
    {
      "cell_type": "markdown",
      "metadata": {
        "id": "view-in-github",
        "colab_type": "text"
      },
      "source": [
        "<a href=\"https://colab.research.google.com/github/Naina-Kshatri/Python_Programs/blob/main/SORTING.ipynb\" target=\"_parent\"><img src=\"https://colab.research.google.com/assets/colab-badge.svg\" alt=\"Open In Colab\"/></a>"
      ]
    },
    {
      "cell_type": "markdown",
      "metadata": {
        "id": "ZELK0Y9iNFMO"
      },
      "source": [
        "Insertion Sort\n",
        "\n",
        "time complexity=O(n)"
      ]
    },
    {
      "cell_type": "code",
      "metadata": {
        "colab": {
          "base_uri": "https://localhost:8080/"
        },
        "id": "2TisU06DNDHu",
        "outputId": "e7371b3e-6841-4c78-c453-a6224798828b"
      },
      "source": [
        "def insertion_sort(arr):\n",
        "  for i in range(len(arr)):\n",
        "    temp=arr[i]\n",
        "    pos=i\n",
        "    while pos>0 and arr[pos-1]>temp:\n",
        "      arr[pos]=arr[pos-1]\n",
        "      pos=pos-1\n",
        "    arr[pos]=temp\n",
        "  return arr\n",
        "num_arr=[74,11,7,14,35]\n",
        "res=insertion_sort(num_arr)\n",
        "print(res)      "
      ],
      "execution_count": null,
      "outputs": [
        {
          "output_type": "stream",
          "text": [
            "[7, 11, 14, 35, 74]\n"
          ],
          "name": "stdout"
        }
      ]
    },
    {
      "cell_type": "markdown",
      "metadata": {
        "id": "GIKYf98kPAdP"
      },
      "source": [
        "Selection Sort\n",
        "\n",
        "time complexity=O(n^2)"
      ]
    },
    {
      "cell_type": "code",
      "metadata": {
        "colab": {
          "base_uri": "https://localhost:8080/"
        },
        "id": "SqkjntN3OjxE",
        "outputId": "47775919-b593-4f62-bf10-9fbd9015b0d9"
      },
      "source": [
        "def selection_sort(arr):\n",
        "  for i in range(len(arr)):\n",
        "    min=i\n",
        "    for j in range(i+1,len(arr)):\n",
        "      if arr[j]<arr[min]:\n",
        "        min=j\n",
        "    arr[min],arr[i]=arr[i],arr[min]\n",
        "  return arr\n",
        "num_arr=[11,1,77,84,9]\n",
        "res=selection_sort(num_arr)\n",
        "print(res)     \n"
      ],
      "execution_count": null,
      "outputs": [
        {
          "output_type": "stream",
          "text": [
            "[1, 9, 11, 77, 84]\n"
          ],
          "name": "stdout"
        }
      ]
    },
    {
      "cell_type": "markdown",
      "metadata": {
        "id": "nd4yz5zkQDjM"
      },
      "source": [
        "**Quick sort**\n",
        "\n",
        "time complexity----\n",
        "\n",
        "average=O(nlogn)\n",
        "\n",
        "worst=O(n^2)"
      ]
    },
    {
      "cell_type": "code",
      "metadata": {
        "colab": {
          "base_uri": "https://localhost:8080/"
        },
        "id": "TVhAaTxKQBjN",
        "outputId": "1a81c51b-502a-416d-9518-3c449eaf8ffd"
      },
      "source": [
        "def swap(a,b,arr):\n",
        "  temp=arr[a]\n",
        "  arr[a]=arr[b]\n",
        "  arr[b]=temp\n",
        "\n",
        "def partition(elements,start,end):\n",
        "  pivot_index=start\n",
        "  pivot=elements[pivot_index]\n",
        "\n",
        "  while start<end:\n",
        "    while start<len(elements) and elements[start]<=pivot:\n",
        "      start+=1\n",
        "    while elements[end]>pivot:\n",
        "      end-=1\n",
        "    if start<end:\n",
        "      swap(start,end,elements)\n",
        "  swap(pivot_index,end,elements)\n",
        "  return end\n",
        "def quick_sort(elements,start,end):\n",
        "  if start<end:\n",
        "     pi=partition(elements,start,end)\n",
        "     quick_sort(elements,start,pi-1)#left partition\n",
        "     quick_sort(elements,pi+1,end)#right partition\n",
        "\n",
        "elements=[11,9,29,7,2,15,28]\n",
        "quick_sort(elements,0,len(elements)-1)\n",
        "print(elements)  \n",
        "\n",
        "        "
      ],
      "execution_count": null,
      "outputs": [
        {
          "output_type": "stream",
          "text": [
            "[2, 7, 9, 11, 15, 28, 29]\n"
          ],
          "name": "stdout"
        }
      ]
    },
    {
      "cell_type": "markdown",
      "metadata": {
        "id": "UOqr5Q5VZjY1"
      },
      "source": [
        "**HEAP SORT**\n",
        "\n",
        "time complexity = O(nlogn)\n"
      ]
    },
    {
      "cell_type": "code",
      "metadata": {
        "colab": {
          "base_uri": "https://localhost:8080/"
        },
        "id": "LkvG5MoiWZ9k",
        "outputId": "a0ca98ee-3403-4cb3-b796-363968d50ec4"
      },
      "source": [
        "def heapify(arr,n,i):\n",
        "  maxi=i\n",
        "  left=2*i+1\n",
        "  right=2*i+2\n",
        "  if left<n and arr[i]<arr[left]:\n",
        "     maxi=left\n",
        "  if right<n and arr[maxi]<arr[right]:\n",
        "    maxi=right\n",
        "  if maxi !=i:\n",
        "    arr[i],arr[maxi]=arr[maxi],arr[i]\n",
        "    heapify(arr,n,maxi)\n",
        "\n",
        "def heap_sort(arr):\n",
        "  n=len(arr)\n",
        "  for i in range(n , -1, -1):\n",
        "    heapify(arr,n,i)\n",
        "  for i in range(n-1 , 0,-1):\n",
        "    arr[i],arr[0]=arr[0],arr[i]\n",
        "    heapify(arr,i,0)\n",
        "num_arr=[83,11,8,67,33,12]\n",
        "heap_sort(num_arr)\n",
        "print(num_arr)      \n",
        "\n"
      ],
      "execution_count": null,
      "outputs": [
        {
          "output_type": "stream",
          "text": [
            "[8, 11, 12, 33, 67, 83]\n"
          ],
          "name": "stdout"
        }
      ]
    },
    {
      "cell_type": "markdown",
      "metadata": {
        "id": "K0CeXbbpcpS6"
      },
      "source": [
        "**MERGE SORT**\n",
        "\n",
        "time complexity=O(nlogn)\n"
      ]
    },
    {
      "cell_type": "code",
      "metadata": {
        "colab": {
          "base_uri": "https://localhost:8080/"
        },
        "id": "FK5E9aaSbvIB",
        "outputId": "b48b5cb0-69c8-44d0-8946-5a03e9db8cc7"
      },
      "source": [
        "def mergeSort(array):\n",
        "  if len(array) >1:\n",
        "    r=len(array)//2\n",
        "    L=array[:r]\n",
        "    M=array[r:]\n",
        "    mergeSort(L)\n",
        "    mergeSort(M)\n",
        "    i=j=k=0\n",
        "    while i<len(L) and j<len(M):\n",
        "      if L[i]<M[j]:\n",
        "        array[k]=L[i]\n",
        "        i+=1\n",
        "      else:\n",
        "        array[k]=M[j]\n",
        "        j+=1\n",
        "      k+=1\n",
        "    while i<len(L):\n",
        "      array[k]=L[i]\n",
        "      i+=1\n",
        "      k+=1\n",
        " \n",
        "    while j<len(M):\n",
        "      array[k]=M[j]\n",
        "      j+=1\n",
        "      k+=1\n",
        "def printList(array):\n",
        "  for i in range(len(array)):\n",
        "    print(array[i],end=\" \")\n",
        "  print()\n",
        "array=[6,5,12,10,9,11]\n",
        "mergeSort(array)\n",
        "print(\"sorted array is:\")\n",
        "printList(array)"
      ],
      "execution_count": null,
      "outputs": [
        {
          "output_type": "stream",
          "text": [
            "sorted array is:\n",
            "5 6 9 10 11 12 \n"
          ],
          "name": "stdout"
        }
      ]
    },
    {
      "cell_type": "markdown",
      "metadata": {
        "id": "9fRZqyPPkGMl"
      },
      "source": [
        "**BUCKET SORT**\n",
        "\n",
        "time complexity:-\n",
        "\n",
        "average=O(n+k)\n",
        "\n",
        "worst=O(n^2)"
      ]
    },
    {
      "cell_type": "code",
      "metadata": {
        "id": "KqdxfFWniAU5",
        "colab": {
          "base_uri": "https://localhost:8080/"
        },
        "outputId": "b586d39f-560b-4fdd-ceaf-5d387c2c97bd"
      },
      "source": [
        "def bucket_sort(l):\n",
        "  largest=max(l)\n",
        "  length=len(l)\n",
        "  size=largest/length\n",
        "  bucket=[[] for _ in range(length)]\n",
        "  for i in range(length):\n",
        "    j=int(l[i]/size)\n",
        "    if j!=length:\n",
        "      bucket[j].append(l[i])\n",
        "    else:\n",
        "      bucket[length-1].append(l[i])\n",
        "  for i in range(length):\n",
        "    insertion_sort(bucket[i])\n",
        "    result=[]\n",
        "  for i in range(length):\n",
        "    result=result+bucket[i]\n",
        "  return result\n",
        "\n",
        "def insertion_sort(arr):\n",
        "  for i in range(len(arr)):\n",
        "    temp=arr[i]\n",
        "    pos=i\n",
        "    while pos>0 and arr[pos-1]>temp:\n",
        "      arr[pos]=arr[pos-1]\n",
        "      pos=pos-1\n",
        "    arr[pos]=temp\n",
        "  return arr\n",
        "num_arr=[83,1,8,37,133,132]\n",
        "n=bucket_sort(num_arr)\n",
        "print(n)\n"
      ],
      "execution_count": 8,
      "outputs": [
        {
          "output_type": "stream",
          "text": [
            "[1, 8, 37, 83, 132, 133]\n"
          ],
          "name": "stdout"
        }
      ]
    },
    {
      "cell_type": "markdown",
      "metadata": {
        "id": "gML1vo0FO3Fo"
      },
      "source": [
        "**BUBBLE SORT**\n",
        "\n",
        "time complexity=O(n^2)\n"
      ]
    },
    {
      "cell_type": "code",
      "metadata": {
        "colab": {
          "base_uri": "https://localhost:8080/"
        },
        "id": "_KEDsvPjKBkn",
        "outputId": "eab9329e-ed8c-45a5-e7a5-b016116ceaff"
      },
      "source": [
        "def bubble_sort(list1):  \n",
        "    # Outer loop for traverse the entire list  \n",
        "    for i in range(0,len(list1)-1):  \n",
        "        for j in range(len(list1)-1):  \n",
        "            if(list1[j]>list1[j+1]):  \n",
        "                temp = list1[j]  \n",
        "                list1[j] = list1[j+1]  \n",
        "                list1[j+1] = temp  \n",
        "    return list1  \n",
        "  \n",
        "list1 = [5, 3, 8, 6, 7, 2]  \n",
        "print(\"The unsorted list is: \", list1)  \n",
        "# Calling the bubble sort function  \n",
        "print(\"The sorted list is: \", bubble_sort(list1))  "
      ],
      "execution_count": 10,
      "outputs": [
        {
          "output_type": "stream",
          "text": [
            "The unsorted list is:  [5, 3, 8, 6, 7, 2]\n",
            "The sorted list is:  [2, 3, 5, 6, 7, 8]\n"
          ],
          "name": "stdout"
        }
      ]
    },
    {
      "cell_type": "code",
      "metadata": {
        "id": "_1gnHVKcPjiY"
      },
      "source": [
        ""
      ],
      "execution_count": null,
      "outputs": []
    }
  ]
}
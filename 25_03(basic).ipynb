{
  "nbformat": 4,
  "nbformat_minor": 0,
  "metadata": {
    "colab": {
      "name": "25/03(basic).ipynb",
      "provenance": [],
      "authorship_tag": "ABX9TyMqKmfZhot0sTVTShlcwHRV",
      "include_colab_link": true
    },
    "kernelspec": {
      "name": "python3",
      "display_name": "Python 3"
    },
    "language_info": {
      "name": "python"
    }
  },
  "cells": [
    {
      "cell_type": "markdown",
      "metadata": {
        "id": "view-in-github",
        "colab_type": "text"
      },
      "source": [
        "<a href=\"https://colab.research.google.com/github/Naina-Kshatri/Python_Programs/blob/main/25_03(basic).ipynb\" target=\"_parent\"><img src=\"https://colab.research.google.com/assets/colab-badge.svg\" alt=\"Open In Colab\"/></a>"
      ]
    },
    {
      "cell_type": "markdown",
      "metadata": {
        "id": "Ls5_HRtO0A7v"
      },
      "source": [
        "Prime Number\n",
        "\n",
        "Logic:1"
      ]
    },
    {
      "cell_type": "code",
      "metadata": {
        "colab": {
          "base_uri": "https://localhost:8080/"
        },
        "id": "rduLj2B7z_yh",
        "outputId": "825ccbc7-c0ff-479e-f1db-bfcfc435ee67"
      },
      "source": [
        "count=0\n",
        "n=int(input(\"Enter a number:\"))\n",
        "for i in range(1,n+1):\n",
        "    if n%i==0:\n",
        "       count+=1\n",
        "if count==2:\n",
        "   print(n,\"is a prime number\")\n",
        "else:\n",
        "     print(n,\"is not a prime number\")       "
      ],
      "execution_count": 1,
      "outputs": [
        {
          "output_type": "stream",
          "text": [
            "Enter a number:56\n",
            "56 is not a prime number\n"
          ],
          "name": "stdout"
        }
      ]
    },
    {
      "cell_type": "markdown",
      "metadata": {
        "id": "wNPeRkOr1Dze"
      },
      "source": [
        "logic:2"
      ]
    },
    {
      "cell_type": "code",
      "metadata": {
        "colab": {
          "base_uri": "https://localhost:8080/"
        },
        "id": "3_w1k66E0qY6",
        "outputId": "305b4453-efe2-4365-ca45-23753ac0139e"
      },
      "source": [
        "x=2\n",
        "ch=0\n",
        "n=int(input(\"Enter a number\"))\n",
        "if n<1:\n",
        "   ch=1\n",
        "while x<=n/2:\n",
        "      if n%x==0:\n",
        "         ch=1\n",
        "         break\n",
        "      else:\n",
        "           x+=1\n",
        "if ch==0:\n",
        "   print(n,\"is a prime number\")\n",
        "else:\n",
        "     print(n,\"is not a prime number\")                    "
      ],
      "execution_count": 2,
      "outputs": [
        {
          "output_type": "stream",
          "text": [
            "Enter a number11\n",
            "11 is a prime number\n"
          ],
          "name": "stdout"
        }
      ]
    },
    {
      "cell_type": "markdown",
      "metadata": {
        "id": "ODZRIzQD2Il5"
      },
      "source": [
        "LARGEST AMONG n DIGIT"
      ]
    },
    {
      "cell_type": "code",
      "metadata": {
        "colab": {
          "base_uri": "https://localhost:8080/"
        },
        "id": "Rs7JrgAP1_JX",
        "outputId": "add4c0c7-c768-4a4e-bd28-d4270eda056c"
      },
      "source": [
        "arr=[]\n",
        "num=int(input(\"Enter n number:\"))\n",
        "for n in range(num):\n",
        "    numbers=int(input(\"Enter a number:\"))\n",
        "    arr.append(numbers)\n",
        "print(\"max element in list is:\",max(arr))\n",
        "print(\"min element in list is:\",min(arr))    "
      ],
      "execution_count": 3,
      "outputs": [
        {
          "output_type": "stream",
          "text": [
            "Enter n number:5\n",
            "Enter a number:5\n",
            "Enter a number:2\n",
            "Enter a number:6\n",
            "Enter a number:4\n",
            "Enter a number:2\n",
            "max element in list is: 6\n",
            "min element in list is: 2\n"
          ],
          "name": "stdout"
        }
      ]
    },
    {
      "cell_type": "markdown",
      "metadata": {
        "id": "uvHb5_Bk3CG2"
      },
      "source": [
        "SWAP TWO NUMBERS\n",
        "\n",
        "Logic:1"
      ]
    },
    {
      "cell_type": "code",
      "metadata": {
        "colab": {
          "base_uri": "https://localhost:8080/"
        },
        "id": "9ltp6JTu250q",
        "outputId": "8407095a-3a5a-4060-cd15-a3b9369cb9ed"
      },
      "source": [
        "x=int(input(\"Enter value:\"))\n",
        "y=int(input(\"Enter value:\"))\n",
        "temp=x\n",
        "x=y\n",
        "y=temp\n",
        "print(\"X=\",x,\"Y=\",y)"
      ],
      "execution_count": 4,
      "outputs": [
        {
          "output_type": "stream",
          "text": [
            "Enter value:5\n",
            "Enter value:10\n",
            "X= 10 Y= 5\n"
          ],
          "name": "stdout"
        }
      ]
    },
    {
      "cell_type": "markdown",
      "metadata": {
        "id": "667HnZ0B30xl"
      },
      "source": [
        "logic-2:"
      ]
    },
    {
      "cell_type": "code",
      "metadata": {
        "colab": {
          "base_uri": "https://localhost:8080/"
        },
        "id": "Z2RMpch63xpo",
        "outputId": "bb9a938c-9f09-43d7-815f-baf84e3b1396"
      },
      "source": [
        "x=int(input(\"Enter value:\"))\n",
        "y=int(input(\"Enter value:\"))\n",
        "x,y=y,x\n",
        "print(\"X=\",x,\"Y=\",y)"
      ],
      "execution_count": 5,
      "outputs": [
        {
          "output_type": "stream",
          "text": [
            "Enter value:5\n",
            "Enter value:2\n",
            "X= 2 Y= 5\n"
          ],
          "name": "stdout"
        }
      ]
    },
    {
      "cell_type": "markdown",
      "metadata": {
        "id": "XAp2uUdV4JtJ"
      },
      "source": [
        "SWAPPING TWO NUMBERS WITHOUT USING THIRD VARIABLE"
      ]
    },
    {
      "cell_type": "code",
      "metadata": {
        "colab": {
          "base_uri": "https://localhost:8080/"
        },
        "id": "vYhVKZ7u4Gv_",
        "outputId": "d1c70b1e-12f3-4cf1-a608-4cc975a1c8cb"
      },
      "source": [
        "x=int(input(\"Enter value:\"))\n",
        "y=int(input(\"Enter value:\"))\n",
        "x=x+y\n",
        "y=x-y\n",
        "x=x-y\n",
        "print(\"X=\",x,\"Y=\",y)"
      ],
      "execution_count": 9,
      "outputs": [
        {
          "output_type": "stream",
          "text": [
            "Enter value:7\n",
            "Enter value:9\n",
            "X= 9 Y= 7\n"
          ],
          "name": "stdout"
        }
      ]
    },
    {
      "cell_type": "markdown",
      "metadata": {
        "id": "zVWe4Dau43iB"
      },
      "source": [
        "FIBONACCI SERIES"
      ]
    },
    {
      "cell_type": "code",
      "metadata": {
        "colab": {
          "base_uri": "https://localhost:8080/"
        },
        "id": "DYSsBQAa4cR8",
        "outputId": "768f3756-4a33-4242-bfe9-0f0ffe80c38b"
      },
      "source": [
        "a=0;\n",
        "b=1;\n",
        "n=int(input(\"Enter how many numbers to be generated:\"))\n",
        "print(\"FIBONACCI SERIES:\");\n",
        "print(\" \",a,\" \",b,end=\"\");\n",
        "for i in range(n):\n",
        "    c=a+b;\n",
        "    a=b;\n",
        "    b=c;\n",
        "    print(\" \",c,end=\"\")"
      ],
      "execution_count": 10,
      "outputs": [
        {
          "output_type": "stream",
          "text": [
            "Enter how many numbers to be generated:4\n",
            "FIBONACCI SERIES:\n",
            "  0   1  1  2  3  5"
          ],
          "name": "stdout"
        }
      ]
    },
    {
      "cell_type": "markdown",
      "metadata": {
        "id": "bkPvC0Wo5gGi"
      },
      "source": [
        "FIBONACCI SERIES USING RECURSION"
      ]
    },
    {
      "cell_type": "code",
      "metadata": {
        "colab": {
          "base_uri": "https://localhost:8080/"
        },
        "id": "fIRHPzvR5b7E",
        "outputId": "73222639-482b-4c6b-e374-4439407537b1"
      },
      "source": [
        "def recur_fibo(n):\n",
        "    if n<=1:\n",
        "       return n\n",
        "    else:\n",
        "         return(recur_fibo(n-1)+recur_fibo(n-2))\n",
        "nterms=int(input(\"enter a value:\"))\n",
        "if nterms <=0:\n",
        "   print(\"enter a positive integer\")\n",
        "else:\n",
        "     print(\"Fibonacci Sequence:\")\n",
        "     for i in range(nterms):\n",
        "         print(recur_fibo(i))      "
      ],
      "execution_count": 13,
      "outputs": [
        {
          "output_type": "stream",
          "text": [
            "enter a value:5\n",
            "Fibonacci Sequence:\n",
            "0\n",
            "1\n",
            "1\n",
            "2\n",
            "3\n"
          ],
          "name": "stdout"
        }
      ]
    },
    {
      "cell_type": "markdown",
      "metadata": {
        "id": "XyFXcrq_6h_F"
      },
      "source": [
        "PALLINDROME\n",
        "\n",
        "Logic-1:"
      ]
    },
    {
      "cell_type": "code",
      "metadata": {
        "colab": {
          "base_uri": "https://localhost:8080/"
        },
        "id": "U3EWoQCP6VWt",
        "outputId": "5bcfaa11-31e1-4c3c-8df3-e3535245ce93"
      },
      "source": [
        "str=input(\"enter a string to check:\")\n",
        "str=str.casefold()\n",
        "if(str==str[::-1]):\n",
        "   print(str,\"is a pallindrome\")\n",
        "else:\n",
        "     print(str,\"is not a pallindrome\")"
      ],
      "execution_count": 14,
      "outputs": [
        {
          "output_type": "stream",
          "text": [
            "enter a string to check:mom\n",
            "mom is a pallindrome\n"
          ],
          "name": "stdout"
        }
      ]
    },
    {
      "cell_type": "markdown",
      "metadata": {
        "id": "SLR9TUCT691K"
      },
      "source": [
        "Logic-2:"
      ]
    },
    {
      "cell_type": "code",
      "metadata": {
        "colab": {
          "base_uri": "https://localhost:8080/"
        },
        "id": "kej2SP7P66Lp",
        "outputId": "cb1ccd75-265c-4fc9-8697-69de832033df"
      },
      "source": [
        "s1=input(\"enter a string to check:\")\n",
        "s2=\"\"\n",
        "for i in s1:\n",
        "     s2=s2+i\n",
        "if(s1==s2):\n",
        "   print(s1,\"is a pallindrome\")\n",
        "else:\n",
        "     print(s1,\"is not pallindrome\")        "
      ],
      "execution_count": 15,
      "outputs": [
        {
          "output_type": "stream",
          "text": [
            "enter a string to check:radar\n",
            "radar is a pallindrome\n"
          ],
          "name": "stdout"
        }
      ]
    },
    {
      "cell_type": "markdown",
      "metadata": {
        "id": "4r-0cD-Q7vhG"
      },
      "source": [
        "PALLINDROME NUMBER"
      ]
    },
    {
      "cell_type": "code",
      "metadata": {
        "colab": {
          "base_uri": "https://localhost:8080/"
        },
        "id": "rQly0edA7p_c",
        "outputId": "fa2681a1-b19f-438c-a3a0-3315a919104c"
      },
      "source": [
        "n=int(input(\"enter a number:\"))\n",
        "temp=n\n",
        "rev=0\n",
        "while(n>0):\n",
        "      d=n%10\n",
        "      rev=rev*10 + d\n",
        "      n=n//10\n",
        "if(temp==rev):\n",
        "   print( \"pallindrome number\")\n",
        "else:\n",
        "     print(\"not pallindrome number\")   "
      ],
      "execution_count": 21,
      "outputs": [
        {
          "output_type": "stream",
          "text": [
            "enter a number:101\n",
            "pallindrome number\n"
          ],
          "name": "stdout"
        }
      ]
    },
    {
      "cell_type": "markdown",
      "metadata": {
        "id": "mm9GT3iw9nGb"
      },
      "source": [
        "PALLINDROME NUMBER USING RECURSIVE FUNCTION"
      ]
    },
    {
      "cell_type": "code",
      "metadata": {
        "colab": {
          "base_uri": "https://localhost:8080/"
        },
        "id": "S-Cl4l4-8Ti5",
        "outputId": "83e9a16d-64ee-4b4a-d610-847eaaa2ca8b"
      },
      "source": [
        "def rev(n,temp):\n",
        "    if(n==0):\n",
        "       return temp;\n",
        "    temp=(temp*10) + (n%10);\n",
        "    return rev(n/10,temp);\n",
        "n=int(input(\"enter a number:\"))\n",
        "temp=rev(n,0);\n",
        "if(temp != n):\n",
        "   print(\"pallindrome\")\n",
        "else:\n",
        "     print(\"not pallindrome\")   "
      ],
      "execution_count": 23,
      "outputs": [
        {
          "output_type": "stream",
          "text": [
            "enter a number:525\n",
            "pallindrome\n"
          ],
          "name": "stdout"
        }
      ]
    },
    {
      "cell_type": "markdown",
      "metadata": {
        "id": "FPUOAb8I-WT6"
      },
      "source": [
        "PASCAL TRIANGLE"
      ]
    },
    {
      "cell_type": "code",
      "metadata": {
        "colab": {
          "base_uri": "https://localhost:8080/"
        },
        "id": "htvUgAfz-L4t",
        "outputId": "17fe0a57-a882-4de7-ad2f-4dd5a5128e2e"
      },
      "source": [
        "def fact(n):\n",
        "    f=1\n",
        "    i=1\n",
        "    while(i<=n):\n",
        "         f=f*i\n",
        "         i+=1\n",
        "    return f\n",
        "nLines=int(input(\"enter no. of lines:\"))\n",
        "for x in range(nLines):\n",
        "    for y in range(x+1):\n",
        "        print(fact(x)//(fact(y)*fact(x-y)),\"\",end=\"\")\n",
        "    print()             "
      ],
      "execution_count": 26,
      "outputs": [
        {
          "output_type": "stream",
          "text": [
            "enter no. of lines:4\n",
            "1 \n",
            "1 1 \n",
            "1 2 1 \n",
            "1 3 3 1 \n"
          ],
          "name": "stdout"
        }
      ]
    },
    {
      "cell_type": "markdown",
      "metadata": {
        "id": "s4YGJ2xf_RJv"
      },
      "source": [
        "LEAP YEAR"
      ]
    },
    {
      "cell_type": "code",
      "metadata": {
        "colab": {
          "base_uri": "https://localhost:8080/"
        },
        "id": "NYGN_TnY_ENy",
        "outputId": "048d207b-f299-4841-d998-1a7e8d724b37"
      },
      "source": [
        "year=int(input(\"enter a year:\"))\n",
        "if(year%4==0 and year !=100 or year%400==0):\n",
        "   print(year,\"is a leap year\")\n",
        "else:\n",
        "     print(year,\"not a leap year\")   "
      ],
      "execution_count": 27,
      "outputs": [
        {
          "output_type": "stream",
          "text": [
            "enter a year:2019\n",
            "2019 not a leap year\n"
          ],
          "name": "stdout"
        }
      ]
    },
    {
      "cell_type": "markdown",
      "metadata": {
        "id": "BHRXayby_uk1"
      },
      "source": [
        "PERFECT NUMBER"
      ]
    },
    {
      "cell_type": "code",
      "metadata": {
        "colab": {
          "base_uri": "https://localhost:8080/"
        },
        "id": "AxGs2RNn_ovO",
        "outputId": "cfafa190-0822-47df-f341-92ddd672d127"
      },
      "source": [
        "i=1\n",
        "sum=0\n",
        "n=int(input(\"enter a number:\"))\n",
        "while(i<n):\n",
        "      if(n%i==0):\n",
        "         sum=sum+i\n",
        "      i+=1\n",
        "if sum==n:\n",
        "    print(i,\"is a perfect number\")\n",
        "else:\n",
        "     print(i,\"is not a perfect number\")       "
      ],
      "execution_count": 29,
      "outputs": [
        {
          "output_type": "stream",
          "text": [
            "enter a number:6\n",
            "6 is a perfect number\n"
          ],
          "name": "stdout"
        }
      ]
    },
    {
      "cell_type": "markdown",
      "metadata": {
        "id": "SwAUci87CCb8"
      },
      "source": [
        "STRONG NUMBER"
      ]
    },
    {
      "cell_type": "code",
      "metadata": {
        "colab": {
          "base_uri": "https://localhost:8080/"
        },
        "id": "GWMw3wWIB5sJ",
        "outputId": "9e940ec6-1d9c-4b09-dbf1-7c4334139f74"
      },
      "source": [
        "num=int(input(\"enter a number:\"))\n",
        "n=num\n",
        "sum=0\n",
        "while(num):\n",
        "      i=1\n",
        "      p=1\n",
        "      r=num%10\n",
        "      while(i<=r):\n",
        "            p=p*i\n",
        "            i+=1\n",
        "      sum=sum+p\n",
        "      num=num//10\n",
        "if(sum==n):\n",
        "   print(n,\"is a strong number\")\n",
        "else:\n",
        "     print(n,\"is not a strong number\")         "
      ],
      "execution_count": 30,
      "outputs": [
        {
          "output_type": "stream",
          "text": [
            "enter a number:145\n",
            "145 is a strong number\n"
          ],
          "name": "stdout"
        }
      ]
    },
    {
      "cell_type": "code",
      "metadata": {
        "id": "wpCJNM-OC7QA"
      },
      "source": [
        ""
      ],
      "execution_count": null,
      "outputs": []
    }
  ]
}
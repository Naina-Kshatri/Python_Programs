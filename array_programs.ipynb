{
  "nbformat": 4,
  "nbformat_minor": 0,
  "metadata": {
    "colab": {
      "name": "array programs.ipynb",
      "provenance": [],
      "collapsed_sections": [],
      "authorship_tag": "ABX9TyNaR7jvbPkAk4VcxOMXmNuq",
      "include_colab_link": true
    },
    "kernelspec": {
      "name": "python3",
      "display_name": "Python 3"
    },
    "language_info": {
      "name": "python"
    }
  },
  "cells": [
    {
      "cell_type": "markdown",
      "metadata": {
        "id": "view-in-github",
        "colab_type": "text"
      },
      "source": [
        "<a href=\"https://colab.research.google.com/github/Naina-Kshatri/Python_Programs/blob/main/array_programs.ipynb\" target=\"_parent\"><img src=\"https://colab.research.google.com/assets/colab-badge.svg\" alt=\"Open In Colab\"/></a>"
      ]
    },
    {
      "cell_type": "markdown",
      "metadata": {
        "id": "GkRfcL-J2LfX"
      },
      "source": [
        "1. Write a Python program to create an array of 5 integers and display the array items.\n",
        "\n",
        " Access individual element through indexes.\n",
        "\n",
        "Sample Output:\n",
        "\n",
        "1\n",
        "\n",
        "3\n",
        "\n",
        "5\n",
        "\n",
        "7\n",
        "\n",
        "9\n",
        "\n",
        "Access first three items individually\n",
        "1\n",
        "\n",
        "3\n",
        "\n",
        "5 "
      ]
    },
    {
      "cell_type": "code",
      "metadata": {
        "colab": {
          "base_uri": "https://localhost:8080/"
        },
        "id": "Dq5902Ql2KlK",
        "outputId": "c4e5c154-0e50-43f8-983a-95b363a2d933"
      },
      "source": [
        "from array import *\n",
        "vals=array('i',[1,3,5,7,9])\n",
        "for i in range(5):\n",
        "  print(vals[i])\n"
      ],
      "execution_count": null,
      "outputs": [
        {
          "output_type": "stream",
          "text": [
            "1\n",
            "3\n",
            "5\n",
            "7\n",
            "9\n"
          ],
          "name": "stdout"
        }
      ]
    },
    {
      "cell_type": "code",
      "metadata": {
        "colab": {
          "base_uri": "https://localhost:8080/"
        },
        "id": "K_AnWqbN2jb0",
        "outputId": "6208d0f9-ac78-4881-8c3a-4b27fb34ed9e"
      },
      "source": [
        "for i in range(3):\n",
        "  print(vals[i])"
      ],
      "execution_count": null,
      "outputs": [
        {
          "output_type": "stream",
          "text": [
            "1\n",
            "3\n",
            "5\n"
          ],
          "name": "stdout"
        }
      ]
    },
    {
      "cell_type": "markdown",
      "metadata": {
        "id": "EZf4NQyk3FNa"
      },
      "source": [
        "2. Write a Python program to append a new item to the end of the array.\n",
        "\n",
        "Sample Output:\n",
        "\n",
        "Original array: array('i', [1, 3, 5, 7, 9])\n",
        "\n",
        "Append 11 at the end of the array:\n",
        "\n",
        "New array: array('i', [1, 3, 5, 7, 9, 11])"
      ]
    },
    {
      "cell_type": "code",
      "metadata": {
        "colab": {
          "base_uri": "https://localhost:8080/"
        },
        "id": "v7BQzo5q28BR",
        "outputId": "1689e12c-1ef8-45cb-ad3f-be08570ed0a4"
      },
      "source": [
        "from array import *\n",
        "vals=array('i',[1,3,5,7,9])\n",
        "vals.append(11)\n",
        "print(vals)"
      ],
      "execution_count": null,
      "outputs": [
        {
          "output_type": "stream",
          "text": [
            "array('i', [1, 3, 5, 7, 9, 11])\n"
          ],
          "name": "stdout"
        }
      ]
    },
    {
      "cell_type": "markdown",
      "metadata": {
        "id": "TsAwQZZL389X"
      },
      "source": [
        "3. Write a Python program to reverse the order of the items in the array.\n",
        "\n",
        "Sample Output\n",
        "\n",
        "Original array: array('i', [1, 3, 5, 3, 7, 1, 9, 3])\n",
        "\n",
        "Reverse the order of the items:\n",
        "\n",
        "array('i', [3, 9, 1, 7, 3, 5, 3, 1])"
      ]
    },
    {
      "cell_type": "code",
      "metadata": {
        "colab": {
          "base_uri": "https://localhost:8080/"
        },
        "id": "3ZWY34Ha3t76",
        "outputId": "70096725-8c8e-4e13-f129-f1af8bdc7ac4"
      },
      "source": [
        "from array import *\n",
        "vals=array('i',[1,3,5,3,7,1,9,3])\n",
        "vals.reverse()\n",
        "print(vals)"
      ],
      "execution_count": null,
      "outputs": [
        {
          "output_type": "stream",
          "text": [
            "array('i', [3, 9, 1, 7, 3, 5, 3, 1])\n"
          ],
          "name": "stdout"
        }
      ]
    },
    {
      "cell_type": "markdown",
      "metadata": {
        "id": "voc3DvO94gkB"
      },
      "source": [
        "4. Write a Python program to get the length in bytes of one array item in the internal representation. \n",
        "\n",
        "Sample Output:\n",
        "\n",
        "Original array: array('i', [1, 3, 5, 7, 9])\n",
        "\n",
        "Length in bytes of one array item: 4"
      ]
    },
    {
      "cell_type": "code",
      "metadata": {
        "colab": {
          "base_uri": "https://localhost:8080/"
        },
        "id": "x2P07l4V4aMD",
        "outputId": "380b2842-161f-4c1b-d3a2-899d5c2883e7"
      },
      "source": [
        "from array import *\n",
        "vals=array('i',[1,3,5,7,9])\n",
        "print(\"length in bytes of one array item:\",len(vals))\n"
      ],
      "execution_count": null,
      "outputs": [
        {
          "output_type": "stream",
          "text": [
            "length in bytes of one array item: 5\n"
          ],
          "name": "stdout"
        }
      ]
    },
    {
      "cell_type": "markdown",
      "metadata": {
        "id": "mGkmYHfi5w9b"
      },
      "source": [
        "5. Write a Python program to get the current memory address and the length in elements of the buffer used to hold an array's contents and also find the size of the memory buffer in bytes.\n",
        "\n",
        "Sample Output:\n",
        "\n",
        "Original array: array('i', [1, 3, 5, 7, 9])\n",
        "\n",
        "Current memory address and the length in elements of the buffer: \n",
        "\n",
        "(139741883429512, 5)\n",
        "\n",
        "The size of the memory buffer in bytes: 20"
      ]
    },
    {
      "cell_type": "code",
      "metadata": {
        "colab": {
          "base_uri": "https://localhost:8080/"
        },
        "id": "dcw0s30M5GWP",
        "outputId": "7dda36e7-d3df-4570-ae54-9ee336516362"
      },
      "source": [
        "from array import *\n",
        "vals=array('i',[1,3,5,7,9])\n",
        "print(vals)\n",
        "print(vals.buffer_info())\n",
        "print(\"size of memory buffer in bytes:\",str(vals.buffer_info()[1]*vals.itemsize))"
      ],
      "execution_count": null,
      "outputs": [
        {
          "output_type": "stream",
          "text": [
            "array('i', [1, 3, 5, 7, 9])\n",
            "(140381396566896, 5)\n",
            "size of memory buffer in bytes: 20\n"
          ],
          "name": "stdout"
        }
      ]
    },
    {
      "cell_type": "markdown",
      "metadata": {
        "id": "rqRINwx372x2"
      },
      "source": [
        "6. Write a Python program to get the number of occurrences of a specified element in an array.\n",
        "\n",
        "Sample Output:\n",
        "\n",
        "Original array: array('i', [1, 3, 5, 3, 7, 9, 3])\n",
        "\n",
        "Number of occurrences of the number 3 in the said array: 3"
      ]
    },
    {
      "cell_type": "code",
      "metadata": {
        "colab": {
          "base_uri": "https://localhost:8080/"
        },
        "id": "tJj-G_NG7FD7",
        "outputId": "fb19372a-1e54-4fea-c35c-6498489cf1bc"
      },
      "source": [
        "from array import *\n",
        "vals=array('i',[1,3,5,3,7,9,3])\n",
        "print(vals)\n",
        "print(\"Number of occurences of number 3:\",str(vals.count(3)))"
      ],
      "execution_count": null,
      "outputs": [
        {
          "output_type": "stream",
          "text": [
            "array('i', [1, 3, 5, 3, 7, 9, 3])\n",
            "Number of occurences of number 3: 3\n"
          ],
          "name": "stdout"
        }
      ]
    },
    {
      "cell_type": "markdown",
      "metadata": {
        "id": "n9_10kOt-ssI"
      },
      "source": [
        "7. Write a Python program to append items from inerrable to the end of the array. \n",
        "\n",
        "Sample Output:\n",
        "\n",
        "Original array: array('i', [1, 3, 5, 7, 9])\n",
        "\n",
        "Extended array: array('i', [1, 3, 5, 7, 9, 1, 3, 5, 7, 9])"
      ]
    },
    {
      "cell_type": "code",
      "metadata": {
        "colab": {
          "base_uri": "https://localhost:8080/"
        },
        "id": "kvzTOoim9AYG",
        "outputId": "71f93b0d-2aec-4165-b9c3-e387f5adbe90"
      },
      "source": [
        "from array import *\n",
        "vals=array('i',[1,3,5,7,9])\n",
        "print(\"Original array:\",vals)\n",
        "vals.extend(vals)\n",
        "print(\"Extended array:\",str(vals))"
      ],
      "execution_count": null,
      "outputs": [
        {
          "output_type": "stream",
          "text": [
            "Original array: array('i', [1, 3, 5, 7, 9])\n",
            "Extended array: array('i', [1, 3, 5, 7, 9, 1, 3, 5, 7, 9])\n"
          ],
          "name": "stdout"
        }
      ]
    },
    {
      "cell_type": "markdown",
      "metadata": {
        "id": "Yj86e1X0AATt"
      },
      "source": [
        "8. Write a Python program to convert an array to an array of machine values and return the bytes representation. \n",
        "\n",
        "Sample Output:\n",
        "\n",
        "Bytes to String:\n",
        "\n",
        "b'w3resource'"
      ]
    },
    {
      "cell_type": "code",
      "metadata": {
        "colab": {
          "base_uri": "https://localhost:8080/"
        },
        "id": "y5cII3Jl_KOh",
        "outputId": "37a7d4f7-1696-4204-8c20-f589d74ef9a1"
      },
      "source": [
        "from array import *\n",
        "print(\"Bytes to String: \")\n",
        "x = array('b', [119, 51, 114, 101,  115, 111, 117, 114, 99, 101])\n",
        "s = x.tobytes()\n",
        "print(s)"
      ],
      "execution_count": null,
      "outputs": [
        {
          "output_type": "stream",
          "text": [
            "Bytes to String: \n",
            "b'w3resource'\n"
          ],
          "name": "stdout"
        }
      ]
    },
    {
      "cell_type": "markdown",
      "metadata": {
        "id": "lhYvQ6iuB7Ry"
      },
      "source": [
        "9. Write a Python program to append items from a specified list.\n",
        "\n",
        "Sample Output:\n",
        "\n",
        "Items in the list: [1, 2, 6, -8]\n",
        "\n",
        "Append items from the list:\n",
        "\n",
        "Items in the array: array('i', [1, 2, 6, -8])"
      ]
    },
    {
      "cell_type": "code",
      "metadata": {
        "colab": {
          "base_uri": "https://localhost:8080/"
        },
        "id": "iDgk7ssbBO6S",
        "outputId": "0a4de5bc-05c3-4cda-fa44-3675d9945e71"
      },
      "source": [
        "from array import *\n",
        "l=[1,2,6,-8]\n",
        "vals=array('i',[])\n",
        "for i in range(4):\n",
        "  x=l[i]\n",
        "  vals.append(x)\n",
        "print(vals)"
      ],
      "execution_count": null,
      "outputs": [
        {
          "output_type": "stream",
          "text": [
            "array('i', [1, 2, 6, -8])\n"
          ],
          "name": "stdout"
        }
      ]
    },
    {
      "cell_type": "markdown",
      "metadata": {
        "id": "yfPLHephDtHR"
      },
      "source": [
        "10. Write a Python program to insert a new item before the second element in an existing array. \n",
        "\n",
        "Sample Output:\n",
        "\n",
        "Original array: array('i', [1, 3, 5, 7, 9])\n",
        "\n",
        "Insert new value 4 before 3:\n",
        "\n",
        "New array: array('i', [1, 4, 3, 5, 7, 9])"
      ]
    },
    {
      "cell_type": "code",
      "metadata": {
        "colab": {
          "base_uri": "https://localhost:8080/"
        },
        "id": "NsEfcRFKCsvP",
        "outputId": "95b109ed-8a45-4fb1-b306-e3fc3802ab66"
      },
      "source": [
        "from array import *\n",
        "vals=array('i',[1,3,5,7,9])\n",
        "print(\"Original array:\",vals)\n",
        "vals.insert(1,4)\n",
        "print(\"New array:\",vals)"
      ],
      "execution_count": null,
      "outputs": [
        {
          "output_type": "stream",
          "text": [
            "Original array: array('i', [1, 3, 5, 7, 9])\n",
            "New array: array('i', [1, 4, 3, 5, 7, 9])\n"
          ],
          "name": "stdout"
        }
      ]
    },
    {
      "cell_type": "markdown",
      "metadata": {
        "id": "IOGI-bNPEb1w"
      },
      "source": [
        "11. Write a Python program to remove a specified item using the index from an array. \n",
        "\n",
        "Sample Output:\n",
        "\n",
        "Original array: array('i', [1, 3, 5, 7, 9])\n",
        "\n",
        "Remove the third item form the array:\n",
        "\n",
        "New array: array('i', [1, 3, 7, 9])"
      ]
    },
    {
      "cell_type": "code",
      "metadata": {
        "colab": {
          "base_uri": "https://localhost:8080/"
        },
        "id": "V_D_0rYqETWQ",
        "outputId": "864e89df-ae42-424a-9410-8af46ed60bab"
      },
      "source": [
        "from array import *\n",
        "vals=array('i',[1,3,5,7,9])\n",
        "print(\"Original array:\",vals)\n",
        "vals.pop(2)\n",
        "print(\"new array:\",vals)"
      ],
      "execution_count": null,
      "outputs": [
        {
          "output_type": "stream",
          "text": [
            "Original array: array('i', [1, 3, 5, 7, 9])\n",
            "new array: array('i', [1, 3, 7, 9])\n"
          ],
          "name": "stdout"
        }
      ]
    },
    {
      "cell_type": "markdown",
      "metadata": {
        "id": "fMUscul0FMww"
      },
      "source": [
        "12. Write a Python program to remove the first occurrence of a specified element from an array.\n",
        "\n",
        "Sample Output:\n",
        "\n",
        "Original array: array('i', [1, 3, 5, 3, 7, 1, 9, 3])\n",
        "\n",
        "Remove the first occurrence of 3 from the said array:\n",
        "\n",
        "New array: array('i', [1, 5, 3, 7, 1, 9, 3])"
      ]
    },
    {
      "cell_type": "code",
      "metadata": {
        "colab": {
          "base_uri": "https://localhost:8080/"
        },
        "id": "Luu1nDjzFFPT",
        "outputId": "6262e45b-6b80-400a-8973-ccfd4d1c9e2e"
      },
      "source": [
        "from array import *\n",
        "vals=array('i',[1,3,5,3,7,9,3])\n",
        "print(\"Original array:\",vals)\n",
        "vals.remove(3)\n",
        "print(vals) "
      ],
      "execution_count": null,
      "outputs": [
        {
          "output_type": "stream",
          "text": [
            "Original array: array('i', [1, 3, 5, 3, 7, 9, 3])\n",
            "array('i', [1, 5, 3, 7, 9, 3])\n"
          ],
          "name": "stdout"
        }
      ]
    },
    {
      "cell_type": "markdown",
      "metadata": {
        "id": "t66vOo9lGXWo"
      },
      "source": [
        "13. Write a Python program to convert an array to an ordinary list with the same items.\n",
        "\n",
        "Original array: array('i', [1, 3, 5, 3, 7, 1, 9, 3])\n",
        "\n",
        "Convert the said array to an ordinary list with the same items:\n",
        "\n",
        "[1, 3, 5, 3, 7, 1, 9, 3]"
      ]
    },
    {
      "cell_type": "code",
      "metadata": {
        "colab": {
          "base_uri": "https://localhost:8080/"
        },
        "id": "iKUpvFJzF2jk",
        "outputId": "befd72b8-2150-4f17-b3a8-cb9e00d53cc8"
      },
      "source": [
        "from array import *\n",
        "vals=array('i',[1,3,5,3,7,9,3])\n",
        "print(\"Original array:\",vals)\n",
        "l=[]\n",
        "for i in range(len(vals)):\n",
        "  x=vals[i]\n",
        "  l.append(x)\n",
        "print(\"Convert array to list:\",l)  "
      ],
      "execution_count": null,
      "outputs": [
        {
          "output_type": "stream",
          "text": [
            "Original array: array('i', [1, 3, 5, 3, 7, 9, 3])\n",
            "Convert array to list: [1, 3, 5, 3, 7, 9, 3]\n"
          ],
          "name": "stdout"
        }
      ]
    },
    {
      "cell_type": "markdown",
      "metadata": {
        "id": "5LgWw5TqHMqE"
      },
      "source": [
        "14. Write a Python program to find whether a given array of integers contains any duplicate element. Return true if any value appears at least twice in the said array and return false if every element is distinct.\n",
        "\n",
        "Sample Output:\n",
        "\n",
        "False\n",
        "\n",
        "True\n",
        "\n",
        "True"
      ]
    },
    {
      "cell_type": "code",
      "metadata": {
        "colab": {
          "base_uri": "https://localhost:8080/"
        },
        "id": "s8T2UjBKHDIi",
        "outputId": "eadf6592-7af4-4cf0-d540-b6899d4b2683"
      },
      "source": [
        "def test_duplicate(vals):\n",
        "    nums = set(vals)    \n",
        "    return len(vals) != len(nums)     \n",
        "print(test_duplicate([1,2,3,4,5]))\n",
        "print(test_duplicate([1,2,3,4, 4]))\n",
        "print(test_duplicate([1,1,2,2,3,3,4,4,5]))"
      ],
      "execution_count": null,
      "outputs": [
        {
          "output_type": "stream",
          "text": [
            "False\n",
            "True\n",
            "True\n"
          ],
          "name": "stdout"
        }
      ]
    },
    {
      "cell_type": "markdown",
      "metadata": {
        "id": "sB0lA7k7NQiZ"
      },
      "source": [
        "15. Write a Python program to find the first duplicate element in a given array of integers. Return -1 If there are no such elements. \n",
        "\n",
        "Sample Output:\n",
        "\n",
        "4\n",
        "\n",
        "-1\n",
        "\n",
        "1"
      ]
    },
    {
      "cell_type": "code",
      "metadata": {
        "colab": {
          "base_uri": "https://localhost:8080/"
        },
        "id": "1GKcw-LQIYs7",
        "outputId": "2cdeb7c5-c73b-4185-e621-234128ce3dc3"
      },
      "source": [
        "def find_first_duplicate(nums):\n",
        "    num_set = set()\n",
        "    \n",
        "\n",
        "    for i in range(len(nums)):\n",
        "\n",
        "        if nums[i] in num_set:\n",
        "            return nums[i]\n",
        "        else:\n",
        "            num_set.add(nums[i])\n",
        "\n",
        "    return -1\n",
        "\n",
        "print(find_first_duplicate([1, 2, 3, 4, 4, 5]))\n",
        "print(find_first_duplicate([1, 2, 3, 4]))\n",
        "print(find_first_duplicate([1, 1, 2, 3, 3, 2, 2]))"
      ],
      "execution_count": null,
      "outputs": [
        {
          "output_type": "stream",
          "text": [
            "4\n",
            "-1\n",
            "1\n"
          ],
          "name": "stdout"
        }
      ]
    },
    {
      "cell_type": "markdown",
      "metadata": {
        "id": "QlsxTzRaPdZN"
      },
      "source": [
        "16. Write a Python program to check whether it follows the sequence given in the patterns array.\n",
        "\n",
        "Pattern example:\n",
        "\n",
        "For color1 = [\"red\", \"green\", \"green\"] and patterns = [\"a\", \"b\", \"b\"]\n",
        "\n",
        "the output should be samePatterns(color1, patterns) = true;\n",
        "\n",
        "For color2 = [\"red\", \"green\", \"greenn\"] and patterns = [\"a\", \"b\", \"b\"]\n",
        "\n",
        "the output should be samePatterns (strings, color2) = false."
      ]
    },
    {
      "cell_type": "code",
      "metadata": {
        "id": "mFLj42DiPEle",
        "colab": {
          "base_uri": "https://localhost:8080/"
        },
        "outputId": "4db0324d-3c44-4fa2-d224-f2c616696e0f"
      },
      "source": [
        "def is_samePatterns(colors,patterns):\n",
        "  if len(colors)!=len(patterns):\n",
        "    return False\n",
        "  sdict={}\n",
        "  pset=set()\n",
        "  sset=set()\n",
        "  for i in range(len(patterns)):\n",
        "    pset.add(patterns[i])\n",
        "    sset.add(colors[i])\n",
        "    if patterns[i] not in sdict.keys():\n",
        "      sdict[patterns[i]]=[]\n",
        "    keys=sdict[patterns[i]]\n",
        "    keys.append(colors[i])\n",
        "    sdict[patterns[i]]=keys\n",
        "  if len(pset) != len(sset):\n",
        "    return False\n",
        "  for values in sdict.values():\n",
        "    for i in range(len(values)-1):\n",
        "      if values[i] != values[i+1]:\n",
        "        return False\n",
        "  return True\n",
        "\n",
        "print(is_samePatterns([\"red\",\"green\",\"green\"],[\"a\",\"b\",\"b\"]))\n",
        "print(is_samePatterns([\"red\",\"green\",\"greenn\"],[\"a\",\"b\",\"b\"]))"
      ],
      "execution_count": 1,
      "outputs": [
        {
          "output_type": "stream",
          "text": [
            "True\n",
            "False\n"
          ],
          "name": "stdout"
        }
      ]
    },
    {
      "cell_type": "markdown",
      "metadata": {
        "id": "HWvhw17_PDpQ"
      },
      "source": [
        "17. Write a Python program to find a pair with highest product from a given array of integers. \n",
        "\n",
        "Original array: [1, 2, 3, 4, 7, 0, 8, 4]\n",
        "\n",
        "Maximum product pair is: (7, 8)\n",
        "\n",
        "Original array: [0, -1, -2, -4, 5, 0, -6]\n",
        "\n",
        "Maximum product pair is: (-4, -6)"
      ]
    },
    {
      "cell_type": "code",
      "metadata": {
        "colab": {
          "base_uri": "https://localhost:8080/"
        },
        "id": "itV_kEszO4IP",
        "outputId": "79ea7141-fb80-4c93-ed07-d817f9ee9f84"
      },
      "source": [
        "def max_product(arr):\n",
        "  arr_len=len(arr)\n",
        "  if(arr_len < 2):\n",
        "    print(\"No pair exists\")\n",
        "    return\n",
        "\n",
        "  x=arr[0];y=arr[1]\n",
        "\n",
        "  for i in range(0,arr_len):\n",
        "    for j in range(i+1,arr_len):\n",
        "      if(arr[i]*arr[j] > x*y):\n",
        "        x=arr[i];y=arr[j]\n",
        "  return x,y\n",
        "\n",
        "nums=[1,2,3,4,7,0,8,4]\n",
        "print(\"Original array\",nums)\n",
        "print(\"Maximum product pair\",max_product(nums))\n",
        "\n",
        "nums=[0,-1,-2,-4,5,0,-6]\n",
        "print(\"Original array\",nums)\n",
        "print(\"maximum product pair:\",max_product(nums))\n",
        " "
      ],
      "execution_count": 3,
      "outputs": [
        {
          "output_type": "stream",
          "text": [
            "Original array [1, 2, 3, 4, 7, 0, 8, 4]\n",
            "Maximum product pair (7, 8)\n",
            "Original array [0, -1, -2, -4, 5, 0, -6]\n",
            "maximum product pair: (-4, -6)\n"
          ],
          "name": "stdout"
        }
      ]
    },
    {
      "cell_type": "markdown",
      "metadata": {
        "id": "x6lwuCX5RuH0"
      },
      "source": [
        "18. Write a Python program to create an array contains six integers. Also print all the members of the array.\n",
        "\n",
        "Sample Output:\n",
        "\n",
        "10\n",
        "\n",
        "20\n",
        "\n",
        "30\n",
        "\n",
        "40\n",
        "\n",
        "50"
      ]
    },
    {
      "cell_type": "code",
      "metadata": {
        "colab": {
          "base_uri": "https://localhost:8080/"
        },
        "id": "Nm5jnxotQ6V4",
        "outputId": "08f4cf06-19aa-4eb4-dcd6-13b63d8173f8"
      },
      "source": [
        "from array import *\n",
        "arr=array('i',[10,20,30,40,50])\n",
        "for i in arr:\n",
        "  print(i)"
      ],
      "execution_count": 4,
      "outputs": [
        {
          "output_type": "stream",
          "text": [
            "10\n",
            "20\n",
            "30\n",
            "40\n",
            "50\n"
          ],
          "name": "stdout"
        }
      ]
    },
    {
      "cell_type": "markdown",
      "metadata": {
        "id": "6-LhHB0hSXC9"
      },
      "source": [
        "19. Write a Python program to get an array buffer information. \n",
        "\n",
        "Sample Output:\n",
        "\n",
        "Array buffer start address in memory and number of elements.\n",
        "\n",
        "(140023105054240, 2)"
      ]
    },
    {
      "cell_type": "code",
      "metadata": {
        "colab": {
          "base_uri": "https://localhost:8080/"
        },
        "id": "1_Eg7kZISRW3",
        "outputId": "8f906859-aad3-413a-9162-fa6887a3b546"
      },
      "source": [
        "from array import *\n",
        "arr=array('i',[1,3,5,7,9,3])\n",
        "print(arr.buffer_info())"
      ],
      "execution_count": 5,
      "outputs": [
        {
          "output_type": "stream",
          "text": [
            "(140069689658864, 6)\n"
          ],
          "name": "stdout"
        }
      ]
    },
    {
      "cell_type": "markdown",
      "metadata": {
        "id": "3GpY3DjYSpRW"
      },
      "source": [
        "20. Write a Python program to get the length of an array. \n",
        "\n",
        "Sample Output:\n",
        "\n",
        "Length of the array is:\n",
        "\n",
        "5"
      ]
    },
    {
      "cell_type": "code",
      "metadata": {
        "colab": {
          "base_uri": "https://localhost:8080/"
        },
        "id": "7G11ubv-Skty",
        "outputId": "a071b05a-5259-4254-b57b-88cd18b17eb2"
      },
      "source": [
        "from array import *\n",
        "arr=array('i',[1,3,5,7])\n",
        "print(len(arr))"
      ],
      "execution_count": 6,
      "outputs": [
        {
          "output_type": "stream",
          "text": [
            "4\n"
          ],
          "name": "stdout"
        }
      ]
    },
    {
      "cell_type": "markdown",
      "metadata": {
        "id": "UYymYZG5S2bm"
      },
      "source": [
        "21. Write a Python program to get the array size of types unsigned integer and float. \n",
        "\n",
        "Sample Output:\n",
        "\n",
        "4\n",
        "\n",
        "4"
      ]
    },
    {
      "cell_type": "code",
      "metadata": {
        "colab": {
          "base_uri": "https://localhost:8080/"
        },
        "id": "syuCGQBBS1De",
        "outputId": "6c64afae-1493-44f8-fb2b-046f179ee761"
      },
      "source": [
        "from array import *\n",
        "arr1=array('i',[1,2,5,8])\n",
        "arr2=array('f',[12.95,6.25])\n",
        "print(arr1.itemsize)\n",
        "print(arr2.itemsize)"
      ],
      "execution_count": 11,
      "outputs": [
        {
          "output_type": "stream",
          "text": [
            "4\n",
            "4\n"
          ],
          "name": "stdout"
        }
      ]
    },
    {
      "cell_type": "markdown",
      "metadata": {
        "id": "INguWq1aT6IX"
      },
      "source": [
        "22. Write a Python program to read a string and interpreting the string as an array of machine values. \n",
        "\n",
        "Sample Output:\n",
        "\n",
        "array1: array('i', [7, 8, 9, 10])\n",
        "\n",
        "Bytes: b'0700000008000000090000000a000000'\n",
        "\n",
        "array2: array('i', [7, 8, 9, 10])"
      ]
    },
    {
      "cell_type": "code",
      "metadata": {
        "colab": {
          "base_uri": "https://localhost:8080/"
        },
        "id": "CdZ-jrGWTdag",
        "outputId": "364ac1aa-91d6-4100-ef8f-ad6dbc4af978"
      },
      "source": [
        "from array import *\n",
        "import binascii\n",
        "arri=array('i',[7,8,9,10])\n",
        "print('arr1:',arr1)\n",
        "as_bytes=arr1.tobytes()\n",
        "print('Bytes:',binascii.hexlify(as_bytes))\n",
        "arr2=array('i')\n",
        "arr2.frombytes(as_bytes)\n",
        "print('arr2:',arr2)"
      ],
      "execution_count": 12,
      "outputs": [
        {
          "output_type": "stream",
          "text": [
            "arr1: array('i', [1, 2, 5, 8])\n",
            "Bytes: b'01000000020000000500000008000000'\n",
            "arr2: array('i', [1, 2, 5, 8])\n"
          ],
          "name": "stdout"
        }
      ]
    },
    {
      "cell_type": "markdown",
      "metadata": {
        "id": "Tzbi26bsVzUQ"
      },
      "source": [
        "23. Write a Python program to remove all duplicate elements from a given array and returns a new array.\n",
        "\n",
        "Sample Output:\n",
        "\n",
        "Original array: 1 3 5 1 3 7 9\n",
        "\n",
        "After removing duplicate elements from the said array: 1 3 5 7 9\n",
        "\n",
        "Original array: 2 4 2 6 4 8\n",
        "\n",
        "After removing duplicate elements from the said array: 2 4 6 8"
      ]
    },
    {
      "cell_type": "code",
      "metadata": {
        "colab": {
          "base_uri": "https://localhost:8080/"
        },
        "id": "sdRjQ8VyVhMh",
        "outputId": "fb5aae4d-17bb-4b92-8703-12e94cc8e897"
      },
      "source": [
        "import array as arr\n",
        "def test(nums):\n",
        "  return sorted(set(nums),key=nums.index)\n",
        "\n",
        "array_num=arr.array('i',[1,3,5,1,3,7,9])\n",
        "print(\"\\nOriginal array:\")\n",
        "for i in range(len(array_num)):\n",
        "  print(array_num[i],end=' ')\n",
        "print(\"\\nafter removing duplicate elements:\")\n",
        "result=arr.array('i',test(array_num))\n",
        "for i in range(len(result)):\n",
        "  print(result[i],end=' ')\n",
        "\n",
        "array_num=arr.array('i',[2,4,2,6,4,8])\n",
        "print(\"\\nOriginal array:\")\n",
        "for i in range(len(array_num)):\n",
        "  print(array_num[i],end=' ')\n",
        "print(\"\\nafter removing duplicate elements:\")\n",
        "result=arr.array('i',test(array_num))\n",
        "for i in range(len(result)):\n",
        "  print(result[i],end=' ')      \n"
      ],
      "execution_count": 14,
      "outputs": [
        {
          "output_type": "stream",
          "text": [
            "\n",
            "Original array:\n",
            "1 3 5 1 3 7 9 \n",
            "after removing duplicate elements:\n",
            "1 3 5 7 9 \n",
            "Original array:\n",
            "2 4 2 6 4 8 \n",
            "after removing duplicate elements:\n",
            "2 4 6 8 "
          ],
          "name": "stdout"
        }
      ]
    },
    {
      "cell_type": "markdown",
      "metadata": {
        "id": "75uSPbN6Z2i_"
      },
      "source": [
        "24. Write a Python program to find the missing number in a given array of numbers between 10 and 20. \n",
        "\n",
        "Sample Output:\n",
        "\n",
        "Original array: 10 11 12 13 14 16 17 18 19 20\n",
        "\n",
        "Missing number in the said array (10-20): 15\n",
        "\n",
        "Original array: 10 11 12 13 14 15 16 17 18 19\n",
        "\n",
        "Missing number in the said array (10-20): 20"
      ]
    },
    {
      "cell_type": "code",
      "metadata": {
        "colab": {
          "base_uri": "https://localhost:8080/"
        },
        "id": "d3jn_02UZnRZ",
        "outputId": "7ef7c8f2-1338-463d-82f0-2cfaff8da32a"
      },
      "source": [
        "import array as arr\n",
        "def test(nums):\n",
        "  return sum(range(10,21)) -sum(list(nums))\n",
        "\n",
        "array_num=arr.array('i',[10,11,12,13,14,16,17,18,19,20])\n",
        "print(\"Original array:\")\n",
        "for i in range(len(array_num)):\n",
        "  print(array_num[i],end=' ')\n",
        "print(\"\\nMissing number in array:\",test(array_num))  "
      ],
      "execution_count": 15,
      "outputs": [
        {
          "output_type": "stream",
          "text": [
            "Original array:\n",
            "10 11 12 13 14 16 17 18 19 20 \n",
            "Missing number in array: 15\n"
          ],
          "name": "stdout"
        }
      ]
    },
    {
      "cell_type": "code",
      "metadata": {
        "id": "eMZu9szmblWR"
      },
      "source": [
        ""
      ],
      "execution_count": null,
      "outputs": []
    }
  ]
}